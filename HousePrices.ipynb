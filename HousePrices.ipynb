{
 "cells": [
  {
   "cell_type": "code",
   "execution_count": 39,
   "metadata": {},
   "outputs": [],
   "source": [
    "import pandas as pd\n",
    "import numpy as np\n",
    "from IPython.display import display\n",
    "import matplotlib.pyplot as plt\n",
    "import seaborn as sns\n",
    "%matplotlib inline\n",
    "sns.set(style='white', context='notebook', palette='deep')\n",
    "from scipy import stats\n",
    "import scipy.stats as ss\n",
    "from scipy.stats import skew, norm\n",
    "from scipy.special import boxcox1p\n",
    "from scipy.stats.stats import pearsonr\n",
    "from sklearn.linear_model import ElasticNet, Lasso,  BayesianRidge, LassoLarsIC\n",
    "from sklearn.ensemble import RandomForestRegressor,  GradientBoostingRegressor, ExtraTreesRegressor\n",
    "from sklearn.kernel_ridge import KernelRidge\n",
    "import xgboost as xgb\n",
    "from sklearn.feature_selection import SelectFromModel\n",
    "from sklearn import model_selection\n",
    "from sklearn.model_selection import KFold\n",
    "from sklearn.model_selection import cross_val_score, train_test_split\n",
    "from sklearn.model_selection import GridSearchCV\n",
    "from sklearn.model_selection import ShuffleSplit\n",
    "\n",
    "# Set visualisation colours\n",
    "mycols = [\"#66c2ff\", \"#5cd6d6\", \"#00cc99\", \"#85e085\", \"#ffd966\", \"#ffb366\", \"#ffb3b3\", \"#dab3ff\", \"#c2c2d6\"]\n",
    "sns.set_palette(palette = mycols, n_colors = 4)\n",
    "\n",
    "# To ignore warnings\n",
    "import warnings\n",
    "def ignore_warn(*args, **kwargs):\n",
    "    pass\n",
    "warnings.warn = ignore_warn\n",
    "warnings.filterwarnings(\"ignore\", category=DeprecationWarning)"
   ]
  },
  {
   "cell_type": "markdown",
   "metadata": {},
   "source": [
    "# Module 1: Data Prep"
   ]
  },
  {
   "cell_type": "code",
   "execution_count": 2,
   "metadata": {},
   "outputs": [],
   "source": [
    "#load data function\n",
    "def load_data(train, test, Id):\n",
    "    train = pd.read_csv(train)\n",
    "    test = pd.read_csv(test)\n",
    "\n",
    "# Save the 'Id' column\n",
    "    train_ID = train[Id]\n",
    "    test_ID = test[Id]\n",
    "\n",
    "# Now drop the  'Id' column as it's redundant for modeling\n",
    "    train.drop(Id, axis = 1, inplace = True)\n",
    "    test.drop(Id, axis = 1, inplace = True)\n",
    "    return train,test,test_ID\n"
   ]
  },
  {
   "cell_type": "code",
   "execution_count": 3,
   "metadata": {},
   "outputs": [
    {
     "name": "stdout",
     "output_type": "stream",
     "text": [
      "(1460, 80)\n",
      "(1459, 79)\n"
     ]
    }
   ],
   "source": [
    "train,test,test_ID = load_data('train.csv','test.csv','Id')\n",
    "print(train.shape)\n",
    "print(test.shape)"
   ]
  },
  {
   "cell_type": "markdown",
   "metadata": {},
   "source": [
    "### 1.1 Remove outliers from target\n",
    "Drop rows from the train data where the corresponding target value is an outlier"
   ]
  },
  {
   "cell_type": "code",
   "execution_count": 4,
   "metadata": {},
   "outputs": [],
   "source": [
    "#reject outliers from target if the number falls outside the 90th percentile\n",
    "def reject_outliers(target):\n",
    "    rowindx = list()\n",
    "    prcntl = np.percentile(train[target], 90)\n",
    "    for indx in range(0,len(train[target])):\n",
    "        if train.loc[indx,target] > prcntl:\n",
    "            rowindx.append(indx)\n",
    "    train.drop(labels = rowindx, axis = 0,inplace = True)"
   ]
  },
  {
   "cell_type": "code",
   "execution_count": 5,
   "metadata": {},
   "outputs": [],
   "source": [
    "target = 'SalePrice'"
   ]
  },
  {
   "cell_type": "code",
   "execution_count": 6,
   "metadata": {},
   "outputs": [],
   "source": [
    "reject_outliers(target)"
   ]
  },
  {
   "cell_type": "code",
   "execution_count": 7,
   "metadata": {},
   "outputs": [
    {
     "data": {
      "text/plain": [
       "(1315, 80)"
      ]
     },
     "execution_count": 7,
     "metadata": {},
     "output_type": "execute_result"
    }
   ],
   "source": [
    "train.shape"
   ]
  },
  {
   "cell_type": "markdown",
   "metadata": {},
   "source": [
    "### 1.2 treat missing values in test and train data\n",
    "Fill missing values in numeric cols with the mean and missing values in the non numeric cols with the mode"
   ]
  },
  {
   "cell_type": "code",
   "execution_count": 9,
   "metadata": {},
   "outputs": [
    {
     "name": "stdout",
     "output_type": "stream",
     "text": [
      "all_data shape: (2774, 79)\n"
     ]
    }
   ],
   "source": [
    "#First of all, save the length of the training and test data for use later\n",
    "ntrain = train.shape[0]\n",
    "ntest = test.shape[0]\n",
    "\n",
    "# Also save the target value, as we will remove this\n",
    "y_train = train[target]\n",
    "\n",
    "# concatenate training and test data into all_data\n",
    "all_data = pd.concat((train, test)).reset_index(drop=True)\n",
    "all_data.drop([target], axis=1, inplace=True)\n",
    "\n",
    "print(\"all_data shape: {}\".format(all_data.shape))"
   ]
  },
  {
   "cell_type": "code",
   "execution_count": 10,
   "metadata": {},
   "outputs": [],
   "source": [
    "#start with getting the names numeric columns\n",
    "numeric_cols = all_data.select_dtypes(include = [np.number]).columns.tolist()"
   ]
  },
  {
   "cell_type": "code",
   "execution_count": 11,
   "metadata": {},
   "outputs": [],
   "source": [
    "#fill na with mean of columns\n",
    "for col in numeric_cols:\n",
    "    all_data[col] = all_data[col].fillna(all_data[col].mean())"
   ]
  },
  {
   "cell_type": "code",
   "execution_count": 13,
   "metadata": {},
   "outputs": [],
   "source": [
    "#get names of non numeric columns\n",
    "non_numeric_cols = all_data.select_dtypes(exclude = [np.number]).columns.tolist()"
   ]
  },
  {
   "cell_type": "code",
   "execution_count": 14,
   "metadata": {},
   "outputs": [],
   "source": [
    "#fill na with mode of columns\n",
    "for col in non_numeric_cols:\n",
    "    all_data[col] = all_data[col].fillna(all_data[col].mode()[0])"
   ]
  },
  {
   "cell_type": "markdown",
   "metadata": {},
   "source": [
    "### 1.3 Treat missing values in Target\n",
    "Fill missing target values with mean"
   ]
  },
  {
   "cell_type": "code",
   "execution_count": 15,
   "metadata": {},
   "outputs": [],
   "source": [
    "y_train = y_train.fillna(y_train.mean())"
   ]
  },
  {
   "cell_type": "markdown",
   "metadata": {},
   "source": [
    "# Module 2: Feature Engineering "
   ]
  },
  {
   "cell_type": "markdown",
   "metadata": {},
   "source": [
    "### 2.1 Enumerate Categorical Columns\n",
    "Categorical columns will be enumerated by giving categories numbers corresponding to their frequency rank."
   ]
  },
  {
   "cell_type": "code",
   "execution_count": 16,
   "metadata": {},
   "outputs": [],
   "source": [
    "allmaps = list()"
   ]
  },
  {
   "cell_type": "code",
   "execution_count": 17,
   "metadata": {},
   "outputs": [],
   "source": [
    "#enumerate columns\n",
    "for col in non_numeric_cols:\n",
    "    mydict = {}\n",
    "    #construct dictionary to use for map\n",
    "    keys,values = np.unique(all_data[col],return_counts = True)\n",
    "    ranks = ss.rankdata(values)\n",
    "    for x in range(0,len(ranks)):\n",
    "        mydict[keys[x]] = ranks[x]\n",
    "    allmaps.append(mydict)\n",
    "    #use map\n",
    "    all_data[col] = all_data[col].map(mydict)"
   ]
  },
  {
   "cell_type": "markdown",
   "metadata": {},
   "source": [
    "### 2.2 Create Polynomials from highest correlated features(>0.4)"
   ]
  },
  {
   "cell_type": "code",
   "execution_count": 18,
   "metadata": {},
   "outputs": [
    {
     "data": {
      "text/plain": [
       "<matplotlib.axes._subplots.AxesSubplot at 0x7efd453c0240>"
      ]
     },
     "execution_count": 18,
     "metadata": {},
     "output_type": "execute_result"
    },
    {
     "data": {
      "image/png": "[encoded data removed]",
      "text/plain": [
       "<Figure size 2160x2160 with 2 Axes>"
      ]
     },
     "metadata": {
      "needs_background": "light"
     },
     "output_type": "display_data"
    }
   ],
   "source": [
    "corr = all_data.corr()\n",
    "plt.subplots(figsize=(30, 30))\n",
    "cmap = sns.diverging_palette(150, 250, as_cmap=True)\n",
    "sns.heatmap(corr, cmap=\"RdYlBu\", vmax=1, vmin=-0.6, center=0.2, square=True, linewidths=0, cbar_kws={\"shrink\": .5})"
   ]
  },
  {
   "cell_type": "code",
   "execution_count": 19,
   "metadata": {},
   "outputs": [],
   "source": [
    "high_cor_cols = list()"
   ]
  },
  {
   "cell_type": "code",
   "execution_count": 21,
   "metadata": {},
   "outputs": [],
   "source": [
    "#get col names with high correlation\n",
    "for col in numeric_cols:\n",
    "    if (train[col].corr(y_train) > 0.4):\n",
    "        high_cor_cols.append(col)"
   ]
  },
  {
   "cell_type": "code",
   "execution_count": 23,
   "metadata": {},
   "outputs": [
    {
     "data": {
      "text/plain": [
       "['1stFlrSF',\n",
       " 'Fireplaces',\n",
       " 'FullBath',\n",
       " 'GarageArea',\n",
       " 'GarageCars',\n",
       " 'GarageYrBlt',\n",
       " 'GrLivArea',\n",
       " 'OverallQual',\n",
       " 'TotRmsAbvGrd',\n",
       " 'TotalBsmtSF',\n",
       " 'YearBuilt',\n",
       " 'YearRemodAdd']"
      ]
     },
     "execution_count": 23,
     "metadata": {},
     "output_type": "execute_result"
    }
   ],
   "source": [
    "high_cor_cols"
   ]
  },
  {
   "cell_type": "code",
   "execution_count": 24,
   "metadata": {},
   "outputs": [],
   "source": [
    "#get quadratics/cubes/squareroots\n",
    "for col in high_cor_cols:\n",
    "    all_data[col+\"-2\"] = all_data[col] ** 2\n",
    "    all_data[col+\"-3\"] = all_data[col] ** 3\n",
    "    all_data[col+\"-sq\"] = np.sqrt(all_data[col])"
   ]
  },
  {
   "cell_type": "code",
   "execution_count": 25,
   "metadata": {},
   "outputs": [
    {
     "data": {
      "text/plain": [
       "(2774, 115)"
      ]
     },
     "execution_count": 25,
     "metadata": {},
     "output_type": "execute_result"
    }
   ],
   "source": [
    "all_data.shape"
   ]
  },
  {
   "cell_type": "markdown",
   "metadata": {},
   "source": [
    "### 2.3 Treat Skews in Features\n",
    "At this point we have only numeric columns throughout the whole DF"
   ]
  },
  {
   "cell_type": "code",
   "execution_count": 26,
   "metadata": {},
   "outputs": [
    {
     "data": {
      "text/plain": [
       "<matplotlib.axes._subplots.AxesSubplot at 0x7efd42cc1b70>"
      ]
     },
     "execution_count": 26,
     "metadata": {},
     "output_type": "execute_result"
    },
    {
     "data": {
      "image/png": "[encoded data removed]",
      "text/plain": [
       "<Figure size 4680x1440 with 1 Axes>"
      ]
     },
     "metadata": {
      "needs_background": "light"
     },
     "output_type": "display_data"
    }
   ],
   "source": [
    "#show all skews \n",
    "plt.subplots(figsize =(65, 20))\n",
    "all_data.skew().sort_values(ascending=False).plot(kind='bar')"
   ]
  },
  {
   "cell_type": "markdown",
   "metadata": {},
   "source": [
    "Transform the features with abs skew values > 0.5 to follow more closely the normal distribution. Use Box-Cox."
   ]
  },
  {
   "cell_type": "code",
   "execution_count": 27,
   "metadata": {},
   "outputs": [
    {
     "name": "stdout",
     "output_type": "stream",
     "text": [
      "94 skewed numerical features have been Box-Cox transformed\n"
     ]
    }
   ],
   "source": [
    "skewed_feats = all_data.apply(lambda x: skew(x.dropna())).sort_values(ascending=False)\n",
    "skewness = skewed_feats[abs(skewed_feats) > 0.5]\n",
    "\n",
    "skewed_features = skewness.index\n",
    "lam = 0.15\n",
    "for feat in skewed_features:\n",
    "    all_data[feat] = boxcox1p(all_data[feat], lam)\n",
    "\n",
    "print(skewness.shape[0],  \"skewed numerical features have been Box-Cox transformed\")"
   ]
  },
  {
   "cell_type": "markdown",
   "metadata": {},
   "source": [
    "### 2.4 Treat Skew in Target\n",
    "**only treat skew if abs(skew) is greater than 0.5**"
   ]
  },
  {
   "cell_type": "code",
   "execution_count": 28,
   "metadata": {},
   "outputs": [
    {
     "data": {
      "text/plain": [
       "0.3297991586468445"
      ]
     },
     "execution_count": 28,
     "metadata": {},
     "output_type": "execute_result"
    }
   ],
   "source": [
    "abs(y_train.skew())"
   ]
  },
  {
   "cell_type": "code",
   "execution_count": 31,
   "metadata": {},
   "outputs": [],
   "source": [
    "if abs(y_train.skew()) > 0.5:\n",
    "#We use the numpy fuction log1p which  applies log(1+x) to all elements of the column\n",
    "    y_train = np.log1p(y_train)"
   ]
  },
  {
   "cell_type": "code",
   "execution_count": 32,
   "metadata": {},
   "outputs": [
    {
     "name": "stderr",
     "output_type": "stream",
     "text": [
      "/home/harry/anaconda3/lib/python3.7/site-packages/scipy/stats/stats.py:1713: FutureWarning: Using a non-tuple sequence for multidimensional indexing is deprecated; use `arr[tuple(seq)]` instead of `arr[seq]`. In the future this will be interpreted as an array index, `arr[np.array(seq)]`, which will result either in an error or a different result.\n",
      "  return np.add.reduce(sorted[indexer] * weights, axis=axis) / sumval\n"
     ]
    },
    {
     "data": {
      "image/png": "[encoded data removed]",
      "text/plain": [
       "<Figure size 1080x720 with 1 Axes>"
      ]
     },
     "metadata": {
      "needs_background": "light"
     },
     "output_type": "display_data"
    }
   ],
   "source": [
    "#Check the new distribution \n",
    "plt.subplots(figsize=(15, 10))\n",
    "g = sns.distplot(y_train, fit=norm, label = \"Skewness : %.2f\"%(y_train.skew()))"
   ]
  },
  {
   "cell_type": "code",
   "execution_count": 35,
   "metadata": {},
   "outputs": [
    {
     "data": {
      "text/plain": [
       "0.3297991586468445"
      ]
     },
     "execution_count": 35,
     "metadata": {},
     "output_type": "execute_result"
    }
   ],
   "source": [
    "y_train.skew()"
   ]
  },
  {
   "cell_type": "markdown",
   "metadata": {},
   "source": [
    "### 2.4 Drop columns with low variance (bottom 10%)"
   ]
  },
  {
   "cell_type": "code",
   "execution_count": 33,
   "metadata": {},
   "outputs": [
    {
     "data": {
      "text/plain": [
       "(2774, 115)"
      ]
     },
     "execution_count": 33,
     "metadata": {},
     "output_type": "execute_result"
    }
   ],
   "source": [
    "all_data.shape"
   ]
  },
  {
   "cell_type": "code",
   "execution_count": 29,
   "metadata": {},
   "outputs": [],
   "source": [
    "#reject column if variance is in bottom 10%\n",
    "index = range(0,(len(all_data.columns)))\n",
    "columns = ['ColumnName','Var']\n",
    "#var_data = {'Column':[np.array(all_data.columns)],'Var':[np.array(all_data.var())]}\n",
    "var_cols = pd.DataFrame(index=index,columns=columns)\n",
    "var_cols['Var'] = list(all_data.var())\n",
    "var_cols['ColumnName'] = all_data.columns\n",
    "prcntl = np.percentile(var_cols['Var'], 10)"
   ]
  },
  {
   "cell_type": "code",
   "execution_count": 30,
   "metadata": {},
   "outputs": [],
   "source": [
    "low_var_cols = list()"
   ]
  },
  {
   "cell_type": "code",
   "execution_count": 31,
   "metadata": {},
   "outputs": [],
   "source": [
    "#construct a list for low variance columns only\n",
    "for indx in range(0,(len(var_cols))):\n",
    "    if var_cols.loc[indx,'Var'] < prcntl:\n",
    "        low_var_cols.append(var_cols.loc[indx,'ColumnName'])"
   ]
  },
  {
   "cell_type": "code",
   "execution_count": 32,
   "metadata": {},
   "outputs": [
    {
     "data": {
      "text/plain": [
       "['Alley',\n",
       " 'Condition2',\n",
       " 'GarageCond',\n",
       " 'GarageQual',\n",
       " 'Heating',\n",
       " 'MiscFeature',\n",
       " 'PoolQC',\n",
       " 'RoofMatl',\n",
       " 'Street',\n",
       " 'Utilities',\n",
       " 'YearBuilt',\n",
       " 'YearBuilt-sq']"
      ]
     },
     "execution_count": 32,
     "metadata": {},
     "output_type": "execute_result"
    }
   ],
   "source": [
    "low_var_cols"
   ]
  },
  {
   "cell_type": "code",
   "execution_count": 33,
   "metadata": {},
   "outputs": [],
   "source": [
    "#now drop the low var columns\n",
    "all_data = all_data.drop(labels = low_var_cols, axis= 1)"
   ]
  },
  {
   "cell_type": "code",
   "execution_count": 34,
   "metadata": {},
   "outputs": [
    {
     "data": {
      "text/plain": [
       "(2774, 103)"
      ]
     },
     "execution_count": 34,
     "metadata": {},
     "output_type": "execute_result"
    }
   ],
   "source": [
    "all_data.shape"
   ]
  },
  {
   "cell_type": "markdown",
   "metadata": {},
   "source": [
    "# Module 3: Modelling\n",
    "### 3.1 Prep final data\n",
    "Use XGBoosts feature importance to reduce number of features"
   ]
  },
  {
   "cell_type": "code",
   "execution_count": 35,
   "metadata": {},
   "outputs": [
    {
     "name": "stdout",
     "output_type": "stream",
     "text": [
      "(1315, 103)\n",
      "(1459, 103)\n"
     ]
    }
   ],
   "source": [
    "# First, re-create the training and test datasets\n",
    "train = all_data[:ntrain]\n",
    "test = all_data[ntrain:]\n",
    "\n",
    "print(train.shape)\n",
    "print(test.shape)"
   ]
  },
  {
   "cell_type": "code",
   "execution_count": 36,
   "metadata": {},
   "outputs": [
    {
     "data": {
      "text/plain": [
       "(1315,)"
      ]
     },
     "execution_count": 36,
     "metadata": {},
     "output_type": "execute_result"
    }
   ],
   "source": [
    "y_train.shape"
   ]
  },
  {
   "cell_type": "code",
   "execution_count": 37,
   "metadata": {},
   "outputs": [
    {
     "data": {
      "text/plain": [
       "Text(0.5,1,'XGB feature importance')"
      ]
     },
     "execution_count": 37,
     "metadata": {},
     "output_type": "execute_result"
    },
    {
     "data": {
      "image/png": "[encoded data removed]",
      "text/plain": [
       "<Figure size 1440x1080 with 1 Axes>"
      ]
     },
     "metadata": {
      "needs_background": "light"
     },
     "output_type": "display_data"
    }
   ],
   "source": [
    "import xgboost as xgb\n",
    "\n",
    "model = xgb.XGBRegressor()\n",
    "model.fit(train, y_train)\n",
    "\n",
    "# Sort feature importances from GBC model trained earlier\n",
    "indices = np.argsort(model.feature_importances_)[::-1]\n",
    "indices = indices[:75]\n",
    "\n",
    "# Visualise these with a barplot\n",
    "plt.subplots(figsize=(20, 15))\n",
    "g = sns.barplot(y=train.columns[indices], x = model.feature_importances_[indices], orient='h', palette = mycols)\n",
    "g.set_xlabel(\"Relative importance\",fontsize=12)\n",
    "g.set_ylabel(\"Features\",fontsize=12)\n",
    "g.tick_params(labelsize=9)\n",
    "g.set_title(\"XGB feature importance\")"
   ]
  },
  {
   "cell_type": "code",
   "execution_count": 40,
   "metadata": {},
   "outputs": [
    {
     "name": "stdout",
     "output_type": "stream",
     "text": [
      "Results of 'feature_importances_':\n",
      "X_train:  (1315, 30) \n",
      "X_test:  (1459, 30)\n"
     ]
    }
   ],
   "source": [
    "xgb_train = train.copy()\n",
    "xgb_test = test.copy()\n",
    "\n",
    "import xgboost as xgb\n",
    "model = xgb.XGBRegressor()\n",
    "model.fit(xgb_train, y_train)\n",
    "\n",
    "# Allow the feature importances attribute to select the most important features\n",
    "xgb_feat_red = SelectFromModel(model, prefit = True)\n",
    "\n",
    "# Reduce estimation, validation and test datasets\n",
    "xgb_train = xgb_feat_red.transform(xgb_train)\n",
    "xgb_test = xgb_feat_red.transform(xgb_test)\n",
    "\n",
    "\n",
    "print(\"Results of 'feature_importances_':\")\n",
    "print('X_train: ', xgb_train.shape, '\\nX_test: ', xgb_test.shape)"
   ]
  },
  {
   "cell_type": "code",
   "execution_count": 42,
   "metadata": {},
   "outputs": [
    {
     "name": "stdout",
     "output_type": "stream",
     "text": [
      "X_train:  (920, 30) \n",
      "X_test:  (395, 30) \n",
      "Y_train:  (920,) \n",
      "Y_test:  (395,)\n"
     ]
    }
   ],
   "source": [
    "# Sample training data again for stacking\n",
    "X_train, X_test, Y_train, Y_test = model_selection.train_test_split(xgb_train, y_train, test_size=0.3, random_state=42)\n",
    "print('X_train: ', X_train.shape, '\\nX_test: ', X_test.shape, '\\nY_train: ', Y_train.shape, '\\nY_test: ', Y_test.shape)"
   ]
  },
  {
   "cell_type": "code",
   "execution_count": 43,
   "metadata": {},
   "outputs": [
    {
     "name": "stdout",
     "output_type": "stream",
     "text": [
      "[[1.14732469e+01 1.14525405e+01 7.30463147e-01 ... 9.07241893e+00\n",
      "  1.97600000e+03 5.82931574e+01]\n",
      " [1.16178569e+01 1.16178569e+01 1.82033410e+00 ... 8.01388370e+00\n",
      "  1.99600000e+03 5.77855679e+01]\n",
      " [1.30845963e+01 0.00000000e+00 1.82033410e+00 ... 0.00000000e+00\n",
      "  1.96300000e+03 5.81646509e+01]\n",
      " ...\n",
      " [1.17182285e+01 0.00000000e+00 1.82033410e+00 ... 0.00000000e+00\n",
      "  1.97100000e+03 5.82438020e+01]\n",
      " [1.16990430e+01 0.00000000e+00 1.19431764e+00 ... 6.96946048e+00\n",
      "  2.00800000e+03 5.81150667e+01]\n",
      " [1.20914047e+01 0.00000000e+00 1.82033410e+00 ... 0.00000000e+00\n",
      "  1.95000000e+03 5.80355473e+01]]\n"
     ]
    }
   ],
   "source": [
    "print(X_train)"
   ]
  },
  {
   "cell_type": "markdown",
   "metadata": {},
   "source": [
    "### 3.2 Training\n",
    "For this analysis use 8 different algorithms:\n",
    "\n",
    "   **Kernel Ridge Regression,\n",
    "    Elastic Net,\n",
    "    Lasso,\n",
    "    Gradient Boosting,\n",
    "    Bayesian Ridge,\n",
    "    Lasso Lars IC,\n",
    "    Random Forest Regressor,\n",
    "    XGBoost**\n",
    "\n",
    "The method of measuring accuracy was chosen to be Root Mean Squared Error."
   ]
  },
  {
   "cell_type": "code",
   "execution_count": 44,
   "metadata": {},
   "outputs": [
    {
     "name": "stdout",
     "output_type": "stream",
     "text": [
      "1 KernelRidge trained...\n",
      "2 ElasticNet trained...\n",
      "3 Lasso trained...\n",
      "4 GradientBoostingRegressor trained...\n",
      "5 BayesianRidge trained...\n",
      "6 LassoLarsIC trained...\n",
      "7 RandomForestRegressor trained...\n",
      "8 XGBRegressor trained...\n"
     ]
    },
    {
     "data": {
      "text/html": [
       "<div>\n",
       "<style scoped>\n",
       "    .dataframe tbody tr th:only-of-type {\n",
       "        vertical-align: middle;\n",
       "    }\n",
       "\n",
       "    .dataframe tbody tr th {\n",
       "        vertical-align: top;\n",
       "    }\n",
       "\n",
       "    .dataframe thead th {\n",
       "        text-align: right;\n",
       "    }\n",
       "</style>\n",
       "<table border=\"1\" class=\"dataframe\">\n",
       "  <thead>\n",
       "    <tr style=\"text-align: right;\">\n",
       "      <th></th>\n",
       "      <th>Name</th>\n",
       "      <th>Parameters</th>\n",
       "      <th>Train Accuracy Mean</th>\n",
       "      <th>Test Accuracy</th>\n",
       "    </tr>\n",
       "  </thead>\n",
       "  <tbody>\n",
       "    <tr>\n",
       "      <th>0</th>\n",
       "      <td>KernelRidge</td>\n",
       "      <td>{'alpha': 1, 'coef0': 1, 'degree': 3, 'gamma':...</td>\n",
       "      <td>2498388.476</td>\n",
       "      <td>2138259.397</td>\n",
       "    </tr>\n",
       "    <tr>\n",
       "      <th>1</th>\n",
       "      <td>ElasticNet</td>\n",
       "      <td>{'alpha': 1.0, 'copy_X': True, 'fit_intercept'...</td>\n",
       "      <td>2476318.818</td>\n",
       "      <td>2248866.842</td>\n",
       "    </tr>\n",
       "    <tr>\n",
       "      <th>2</th>\n",
       "      <td>Lasso</td>\n",
       "      <td>{'alpha': 1.0, 'copy_X': True, 'fit_intercept'...</td>\n",
       "      <td>2242783.277</td>\n",
       "      <td>1939399.578</td>\n",
       "    </tr>\n",
       "    <tr>\n",
       "      <th>3</th>\n",
       "      <td>GradientBoostingRegressor</td>\n",
       "      <td>{'alpha': 0.9, 'criterion': 'friedman_mse', 'i...</td>\n",
       "      <td>1870580.452</td>\n",
       "      <td>1665554.930</td>\n",
       "    </tr>\n",
       "    <tr>\n",
       "      <th>4</th>\n",
       "      <td>BayesianRidge</td>\n",
       "      <td>{'alpha_1': 1e-06, 'alpha_2': 1e-06, 'compute_...</td>\n",
       "      <td>2249235.883</td>\n",
       "      <td>1937221.671</td>\n",
       "    </tr>\n",
       "    <tr>\n",
       "      <th>5</th>\n",
       "      <td>LassoLarsIC</td>\n",
       "      <td>{'copy_X': True, 'criterion': 'aic', 'eps': 2....</td>\n",
       "      <td>2255314.986</td>\n",
       "      <td>1933706.371</td>\n",
       "    </tr>\n",
       "    <tr>\n",
       "      <th>6</th>\n",
       "      <td>RandomForestRegressor</td>\n",
       "      <td>{'bootstrap': True, 'criterion': 'mse', 'max_d...</td>\n",
       "      <td>2171641.651</td>\n",
       "      <td>2034772.952</td>\n",
       "    </tr>\n",
       "    <tr>\n",
       "      <th>7</th>\n",
       "      <td>XGBRegressor</td>\n",
       "      <td>{'base_score': 0.5, 'booster': 'gbtree', 'cols...</td>\n",
       "      <td>1894122.656</td>\n",
       "      <td>1655509.358</td>\n",
       "    </tr>\n",
       "  </tbody>\n",
       "</table>\n",
       "</div>"
      ],
      "text/plain": [
       "                        Name  \\\n",
       "0                KernelRidge   \n",
       "1                 ElasticNet   \n",
       "2                      Lasso   \n",
       "3  GradientBoostingRegressor   \n",
       "4              BayesianRidge   \n",
       "5                LassoLarsIC   \n",
       "6      RandomForestRegressor   \n",
       "7               XGBRegressor   \n",
       "\n",
       "                                          Parameters  Train Accuracy Mean  \\\n",
       "0  {'alpha': 1, 'coef0': 1, 'degree': 3, 'gamma':...          2498388.476   \n",
       "1  {'alpha': 1.0, 'copy_X': True, 'fit_intercept'...          2476318.818   \n",
       "2  {'alpha': 1.0, 'copy_X': True, 'fit_intercept'...          2242783.277   \n",
       "3  {'alpha': 0.9, 'criterion': 'friedman_mse', 'i...          1870580.452   \n",
       "4  {'alpha_1': 1e-06, 'alpha_2': 1e-06, 'compute_...          2249235.883   \n",
       "5  {'copy_X': True, 'criterion': 'aic', 'eps': 2....          2255314.986   \n",
       "6  {'bootstrap': True, 'criterion': 'mse', 'max_d...          2171641.651   \n",
       "7  {'base_score': 0.5, 'booster': 'gbtree', 'cols...          1894122.656   \n",
       "\n",
       "   Test Accuracy  \n",
       "0    2138259.397  \n",
       "1    2248866.842  \n",
       "2    1939399.578  \n",
       "3    1665554.930  \n",
       "4    1937221.671  \n",
       "5    1933706.371  \n",
       "6    2034772.952  \n",
       "7    1655509.358  "
      ]
     },
     "execution_count": 44,
     "metadata": {},
     "output_type": "execute_result"
    }
   ],
   "source": [
    "#Machine Learning Algorithm (MLA) Selection and Initialization\n",
    "models = [KernelRidge(), ElasticNet(), Lasso(), GradientBoostingRegressor(), BayesianRidge(), LassoLarsIC(), RandomForestRegressor(), xgb.XGBRegressor()]\n",
    "\n",
    "# First I will use ShuffleSplit as a way of randomising the cross validation samples.\n",
    "shuff = ShuffleSplit(n_splits=5, test_size=0.2, random_state=42)\n",
    "\n",
    "#create table to compare MLA metrics\n",
    "columns = ['Name', 'Parameters', 'Train Accuracy Mean', 'Test Accuracy']\n",
    "before_model_compare = pd.DataFrame(columns = columns)\n",
    "\n",
    "#index through models and save performance to table\n",
    "row_index = 0\n",
    "for alg in models:\n",
    "\n",
    "    #set name and parameters\n",
    "    model_name = alg.__class__.__name__\n",
    "    before_model_compare.loc[row_index, 'Name'] = model_name\n",
    "    before_model_compare.loc[row_index, 'Parameters'] = str(alg.get_params())\n",
    "    \n",
    "    alg.fit(X_train, Y_train)\n",
    "    \n",
    "    #score model with cross validation: http://scikit-learn.org/stable/modules/generated/sklearn.model_selection.cross_validate.html#sklearn.model_selection.cross_validate\n",
    "    training_results = np.sqrt((-cross_val_score(alg, X_train, Y_train, cv = shuff, scoring= 'neg_mean_squared_error')).mean())\n",
    "    test_results = np.sqrt(((Y_test-alg.predict(X_test))**2).mean())\n",
    "    \n",
    "    before_model_compare.loc[row_index, 'Train Accuracy Mean'] = (training_results)*100\n",
    "    before_model_compare.loc[row_index, 'Test Accuracy'] = (test_results)*100\n",
    "    \n",
    "    row_index+=1\n",
    "    print(row_index, alg.__class__.__name__, 'trained...')\n",
    "\n",
    "decimals = 3\n",
    "before_model_compare['Train Accuracy Mean'] = before_model_compare['Train Accuracy Mean'].apply(lambda x: round(x, decimals))\n",
    "before_model_compare['Test Accuracy'] = before_model_compare['Test Accuracy'].apply(lambda x: round(x, decimals))\n",
    "before_model_compare"
   ]
  },
  {
   "cell_type": "markdown",
   "metadata": {},
   "source": [
    "### 3.3 Optimisation\n",
    "Use **GridSearchCV** to find the best combinations of parameters to produce the highest scoring models. To cut down computation time some hyperparameters were hard coded."
   ]
  },
  {
   "cell_type": "code",
   "execution_count": 45,
   "metadata": {},
   "outputs": [
    {
     "name": "stdout",
     "output_type": "stream",
     "text": [
      "1 KernelRidge Optimised...\n",
      "2 ElasticNet Optimised...\n",
      "3 Lasso Optimised...\n",
      "4 GradientBoostingRegressor Optimised...\n",
      "5 BayesianRidge Optimised...\n",
      "6 LassoLarsIC Optimised...\n",
      "7 RandomForestRegressor Optimised...\n",
      "8 XGBRegressor Optimised...\n"
     ]
    },
    {
     "data": {
      "text/html": [
       "<div>\n",
       "<style scoped>\n",
       "    .dataframe tbody tr th:only-of-type {\n",
       "        vertical-align: middle;\n",
       "    }\n",
       "\n",
       "    .dataframe tbody tr th {\n",
       "        vertical-align: top;\n",
       "    }\n",
       "\n",
       "    .dataframe thead th {\n",
       "        text-align: right;\n",
       "    }\n",
       "</style>\n",
       "<table border=\"1\" class=\"dataframe\">\n",
       "  <thead>\n",
       "    <tr style=\"text-align: right;\">\n",
       "      <th></th>\n",
       "      <th>Name</th>\n",
       "      <th>Parameters</th>\n",
       "      <th>Train Accuracy Mean</th>\n",
       "      <th>Test Accuracy</th>\n",
       "    </tr>\n",
       "  </thead>\n",
       "  <tbody>\n",
       "    <tr>\n",
       "      <th>0</th>\n",
       "      <td>KernelRidge</td>\n",
       "      <td>{'alpha': 0.1, 'coef0': 100, 'degree': 1, 'gam...</td>\n",
       "      <td>2258059.175</td>\n",
       "      <td>1939712.551</td>\n",
       "    </tr>\n",
       "    <tr>\n",
       "      <th>1</th>\n",
       "      <td>ElasticNet</td>\n",
       "      <td>{'alpha': 0.001, 'copy_X': True, 'fit_intercep...</td>\n",
       "      <td>2242656.949</td>\n",
       "      <td>1938802.670</td>\n",
       "    </tr>\n",
       "    <tr>\n",
       "      <th>2</th>\n",
       "      <td>Lasso</td>\n",
       "      <td>{'alpha': 0.0005, 'copy_X': True, 'fit_interce...</td>\n",
       "      <td>2242791.161</td>\n",
       "      <td>1939524.933</td>\n",
       "    </tr>\n",
       "    <tr>\n",
       "      <th>3</th>\n",
       "      <td>GradientBoostingRegressor</td>\n",
       "      <td>{'learning_rate': 0.1, 'loss': 'huber', 'max_d...</td>\n",
       "      <td>1833709.609</td>\n",
       "      <td>1619049.102</td>\n",
       "    </tr>\n",
       "    <tr>\n",
       "      <th>4</th>\n",
       "      <td>BayesianRidge</td>\n",
       "      <td>{'alpha_1': 1e-08, 'alpha_2': 5e-06, 'copy_X':...</td>\n",
       "      <td>2249235.888</td>\n",
       "      <td>1937221.672</td>\n",
       "    </tr>\n",
       "    <tr>\n",
       "      <th>5</th>\n",
       "      <td>LassoLarsIC</td>\n",
       "      <td>{'copy_X': True, 'criterion': 'aic', 'eps': 1e...</td>\n",
       "      <td>2255314.986</td>\n",
       "      <td>1933706.371</td>\n",
       "    </tr>\n",
       "    <tr>\n",
       "      <th>6</th>\n",
       "      <td>RandomForestRegressor</td>\n",
       "      <td>{'max_depth': None, 'max_features': 'auto', 'm...</td>\n",
       "      <td>2094259.230</td>\n",
       "      <td>1941065.026</td>\n",
       "    </tr>\n",
       "    <tr>\n",
       "      <th>7</th>\n",
       "      <td>XGBRegressor</td>\n",
       "      <td>{'booster': 'gbtree', 'colsample_bylevel': 0.2...</td>\n",
       "      <td>1779142.392</td>\n",
       "      <td>1640883.357</td>\n",
       "    </tr>\n",
       "  </tbody>\n",
       "</table>\n",
       "</div>"
      ],
      "text/plain": [
       "                        Name  \\\n",
       "0                KernelRidge   \n",
       "1                 ElasticNet   \n",
       "2                      Lasso   \n",
       "3  GradientBoostingRegressor   \n",
       "4              BayesianRidge   \n",
       "5                LassoLarsIC   \n",
       "6      RandomForestRegressor   \n",
       "7               XGBRegressor   \n",
       "\n",
       "                                          Parameters  Train Accuracy Mean  \\\n",
       "0  {'alpha': 0.1, 'coef0': 100, 'degree': 1, 'gam...          2258059.175   \n",
       "1  {'alpha': 0.001, 'copy_X': True, 'fit_intercep...          2242656.949   \n",
       "2  {'alpha': 0.0005, 'copy_X': True, 'fit_interce...          2242791.161   \n",
       "3  {'learning_rate': 0.1, 'loss': 'huber', 'max_d...          1833709.609   \n",
       "4  {'alpha_1': 1e-08, 'alpha_2': 5e-06, 'copy_X':...          2249235.888   \n",
       "5  {'copy_X': True, 'criterion': 'aic', 'eps': 1e...          2255314.986   \n",
       "6  {'max_depth': None, 'max_features': 'auto', 'm...          2094259.230   \n",
       "7  {'booster': 'gbtree', 'colsample_bylevel': 0.2...          1779142.392   \n",
       "\n",
       "   Test Accuracy  \n",
       "0    1939712.551  \n",
       "1    1938802.670  \n",
       "2    1939524.933  \n",
       "3    1619049.102  \n",
       "4    1937221.672  \n",
       "5    1933706.371  \n",
       "6    1941065.026  \n",
       "7    1640883.357  "
      ]
     },
     "execution_count": 45,
     "metadata": {},
     "output_type": "execute_result"
    }
   ],
   "source": [
    "models = [KernelRidge(), ElasticNet(), Lasso(), GradientBoostingRegressor(), BayesianRidge(), LassoLarsIC(), RandomForestRegressor(), xgb.XGBRegressor()]\n",
    "\n",
    "KR_param_grid = {'alpha': [0.1], 'coef0': [100], 'degree': [1], 'gamma': [None], 'kernel': ['polynomial']}\n",
    "EN_param_grid = {'alpha': [0.001], 'copy_X': [True], 'l1_ratio': [0.6], 'fit_intercept': [True], 'normalize': [False], \n",
    "                         'precompute': [False], 'max_iter': [300], 'tol': [0.001], 'selection': ['random'], 'random_state': [None]}\n",
    "LASS_param_grid = {'alpha': [0.0005], 'copy_X': [True], 'fit_intercept': [True], 'normalize': [False], 'precompute': [False], \n",
    "                    'max_iter': [300], 'tol': [0.01], 'selection': ['random'], 'random_state': [None]}\n",
    "GB_param_grid = {'loss': ['huber'], 'learning_rate': [0.1], 'n_estimators': [300], 'max_depth': [3], \n",
    "                                        'min_samples_split': [0.0025], 'min_samples_leaf': [5]}\n",
    "BR_param_grid = {'n_iter': [200], 'tol': [0.00001], 'alpha_1': [0.00000001], 'alpha_2': [0.000005], 'lambda_1': [0.000005], \n",
    "                 'lambda_2': [0.00000001], 'copy_X': [True]}\n",
    "LL_param_grid = {'criterion': ['aic'], 'normalize': [True], 'max_iter': [100], 'copy_X': [True], 'precompute': ['auto'], 'eps': [0.000001]}\n",
    "RFR_param_grid = {'n_estimators': [50], 'max_features': ['auto'], 'max_depth': [None], 'min_samples_split': [5], 'min_samples_leaf': [2]}\n",
    "XGB_param_grid = {'max_depth': [3], 'learning_rate': [0.1], 'n_estimators': [300], 'booster': ['gbtree'], 'gamma': [0], 'reg_alpha': [0.1],\n",
    "                  'reg_lambda': [0.7], 'max_delta_step': [0], 'min_child_weight': [1], 'colsample_bytree': [0.5], 'colsample_bylevel': [0.2],\n",
    "                  'scale_pos_weight': [1]}\n",
    "params_grid = [KR_param_grid, EN_param_grid, LASS_param_grid, GB_param_grid, BR_param_grid, LL_param_grid, RFR_param_grid, XGB_param_grid]\n",
    "\n",
    "after_model_compare = pd.DataFrame(columns = columns)\n",
    "\n",
    "row_index = 0\n",
    "for alg in models:\n",
    "    \n",
    "    gs_alg = GridSearchCV(alg, param_grid = params_grid[0], cv = shuff, scoring = 'neg_mean_squared_error', n_jobs=-1)\n",
    "    params_grid.pop(0)\n",
    "\n",
    "    #set name and parameters\n",
    "    model_name = alg.__class__.__name__\n",
    "    after_model_compare.loc[row_index, 'Name'] = model_name\n",
    "    \n",
    "    gs_alg.fit(X_train, Y_train)\n",
    "    gs_best = gs_alg.best_estimator_\n",
    "    after_model_compare.loc[row_index, 'Parameters'] = str(gs_alg.best_params_)\n",
    "    \n",
    "    #score model with cross validation: http://scikit-learn.org/stable/modules/generated/sklearn.model_selection.cross_validate.html#sklearn.model_selection.cross_validate\n",
    "    after_training_results = np.sqrt(-gs_alg.best_score_)\n",
    "    after_test_results = np.sqrt(((Y_test-gs_alg.predict(X_test))**2).mean())\n",
    "    \n",
    "    after_model_compare.loc[row_index, 'Train Accuracy Mean'] = (after_training_results)*100\n",
    "    after_model_compare.loc[row_index, 'Test Accuracy'] = (after_test_results)*100\n",
    "    \n",
    "    row_index+=1\n",
    "    print(row_index, alg.__class__.__name__, 'Optimised...')\n",
    "\n",
    "decimals = 3\n",
    "after_model_compare['Train Accuracy Mean'] = after_model_compare['Train Accuracy Mean'].apply(lambda x: round(x, decimals))\n",
    "after_model_compare['Test Accuracy'] = after_model_compare['Test Accuracy'].apply(lambda x: round(x, decimals))\n",
    "after_model_compare"
   ]
  },
  {
   "cell_type": "markdown",
   "metadata": {},
   "source": [
    "### 3.4 Stacking\n",
    "Make predictions and construct stack"
   ]
  },
  {
   "cell_type": "code",
   "execution_count": 46,
   "metadata": {},
   "outputs": [
    {
     "name": "stdout",
     "output_type": "stream",
     "text": [
      "1 KernelRidge predictions added to stacking validation dataset...\n",
      "1 KernelRidge predictions added to stacking test dataset...\n",
      "--------------------------------------------------\n",
      "2 ElasticNet predictions added to stacking validation dataset...\n",
      "2 ElasticNet predictions added to stacking test dataset...\n",
      "--------------------------------------------------\n",
      "3 Lasso predictions added to stacking validation dataset...\n",
      "3 Lasso predictions added to stacking test dataset...\n",
      "--------------------------------------------------\n",
      "4 GradientBoostingRegressor predictions added to stacking validation dataset...\n",
      "4 GradientBoostingRegressor predictions added to stacking test dataset...\n",
      "--------------------------------------------------\n",
      "5 BayesianRidge predictions added to stacking validation dataset...\n",
      "5 BayesianRidge predictions added to stacking test dataset...\n",
      "--------------------------------------------------\n",
      "6 LassoLarsIC predictions added to stacking validation dataset...\n",
      "6 LassoLarsIC predictions added to stacking test dataset...\n",
      "--------------------------------------------------\n",
      "7 RandomForestRegressor predictions added to stacking validation dataset...\n",
      "7 RandomForestRegressor predictions added to stacking test dataset...\n",
      "--------------------------------------------------\n",
      "8 XGBRegressor predictions added to stacking validation dataset...\n",
      "8 XGBRegressor predictions added to stacking test dataset...\n",
      "--------------------------------------------------\n",
      "Done\n"
     ]
    }
   ],
   "source": [
    "models = [KernelRidge(), ElasticNet(), Lasso(), GradientBoostingRegressor(), BayesianRidge(), LassoLarsIC(), RandomForestRegressor(), xgb.XGBRegressor()]\n",
    "names = ['KernelRidge', 'ElasticNet', 'Lasso', 'Gradient Boosting', 'Bayesian Ridge', 'Lasso Lars IC', 'Random Forest', 'XGBoost']\n",
    "params_grid = [KR_param_grid, EN_param_grid, LASS_param_grid, GB_param_grid, BR_param_grid, LL_param_grid, RFR_param_grid, XGB_param_grid]\n",
    "stacked_validation_train = pd.DataFrame()\n",
    "stacked_test_train = pd.DataFrame()\n",
    "\n",
    "row_index=0\n",
    "\n",
    "for alg in models:\n",
    "    \n",
    "    gs_alg = GridSearchCV(alg, param_grid = params_grid[0], cv = shuff, scoring = 'neg_mean_squared_error', n_jobs=-1)\n",
    "    params_grid.pop(0)\n",
    "    \n",
    "    gs_alg.fit(X_train, Y_train)\n",
    "    gs_best = gs_alg.best_estimator_\n",
    "    stacked_validation_train.insert(loc = row_index, column = names[0], value = gs_best.predict(X_test))\n",
    "    print(row_index+1, alg.__class__.__name__, 'predictions added to stacking validation dataset...')\n",
    "    \n",
    "    stacked_test_train.insert(loc = row_index, column = names[0], value = gs_best.predict(xgb_test))\n",
    "    print(row_index+1, alg.__class__.__name__, 'predictions added to stacking test dataset...')\n",
    "    print(\"-\"*50)\n",
    "    names.pop(0)\n",
    "    \n",
    "    row_index+=1\n",
    "    \n",
    "print('Done')"
   ]
  },
  {
   "cell_type": "code",
   "execution_count": 47,
   "metadata": {},
   "outputs": [],
   "source": [
    "stacked_validation_train = stacked_validation_train.round(decimals=2)"
   ]
  },
  {
   "cell_type": "code",
   "execution_count": 48,
   "metadata": {},
   "outputs": [
    {
     "data": {
      "text/plain": [
       "0      208789.09\n",
       "1      119738.32\n",
       "2      187716.94\n",
       "3      230119.52\n",
       "4      172627.28\n",
       "5      206966.16\n",
       "6      133513.11\n",
       "7      192257.91\n",
       "8      184867.72\n",
       "9      156323.48\n",
       "10     256878.59\n",
       "11     245293.28\n",
       "12     148327.73\n",
       "13     161730.39\n",
       "14     190936.27\n",
       "15     150854.00\n",
       "16     187554.91\n",
       "17     123869.70\n",
       "18     134051.03\n",
       "19     155579.27\n",
       "20     208824.44\n",
       "21      91845.09\n",
       "22     164873.44\n",
       "23     244415.59\n",
       "24     192166.16\n",
       "25     128264.05\n",
       "26     117109.72\n",
       "27     128502.70\n",
       "28     148369.53\n",
       "29     144197.45\n",
       "         ...    \n",
       "365    118613.09\n",
       "366    112879.75\n",
       "367    174421.59\n",
       "368    234594.14\n",
       "369    140017.48\n",
       "370    125964.84\n",
       "371    166616.28\n",
       "372    103009.45\n",
       "373    113342.45\n",
       "374    189182.05\n",
       "375    160194.78\n",
       "376    143455.27\n",
       "377    121014.95\n",
       "378    125577.66\n",
       "379    200148.55\n",
       "380    134666.52\n",
       "381    191990.20\n",
       "382    157132.25\n",
       "383    163140.81\n",
       "384    152937.36\n",
       "385    107555.66\n",
       "386    143181.61\n",
       "387     69901.36\n",
       "388    114341.45\n",
       "389    193840.69\n",
       "390    130216.71\n",
       "391    174127.77\n",
       "392     89758.17\n",
       "393    143554.86\n",
       "394    225909.77\n",
       "Name: XGBoost, Length: 395, dtype: float64"
      ]
     },
     "execution_count": 48,
     "metadata": {},
     "output_type": "execute_result"
    }
   ],
   "source": [
    "stacked_validation_train['XGBoost'].apply(lambda x:round(x,2))"
   ]
  },
  {
   "cell_type": "code",
   "execution_count": 49,
   "metadata": {},
   "outputs": [
    {
     "data": {
      "text/html": [
       "<div>\n",
       "<style scoped>\n",
       "    .dataframe tbody tr th:only-of-type {\n",
       "        vertical-align: middle;\n",
       "    }\n",
       "\n",
       "    .dataframe tbody tr th {\n",
       "        vertical-align: top;\n",
       "    }\n",
       "\n",
       "    .dataframe thead th {\n",
       "        text-align: right;\n",
       "    }\n",
       "</style>\n",
       "<table border=\"1\" class=\"dataframe\">\n",
       "  <thead>\n",
       "    <tr style=\"text-align: right;\">\n",
       "      <th></th>\n",
       "      <th>KernelRidge</th>\n",
       "      <th>ElasticNet</th>\n",
       "      <th>Lasso</th>\n",
       "      <th>Gradient Boosting</th>\n",
       "      <th>Bayesian Ridge</th>\n",
       "      <th>Lasso Lars IC</th>\n",
       "      <th>Random Forest</th>\n",
       "      <th>XGBoost</th>\n",
       "    </tr>\n",
       "  </thead>\n",
       "  <tbody>\n",
       "    <tr>\n",
       "      <th>0</th>\n",
       "      <td>203776.28</td>\n",
       "      <td>204543.22</td>\n",
       "      <td>204607.34</td>\n",
       "      <td>209002.81</td>\n",
       "      <td>203956.08</td>\n",
       "      <td>201701.91</td>\n",
       "      <td>217498.93</td>\n",
       "      <td>208789.093750</td>\n",
       "    </tr>\n",
       "    <tr>\n",
       "      <th>1</th>\n",
       "      <td>124120.88</td>\n",
       "      <td>126193.37</td>\n",
       "      <td>126406.95</td>\n",
       "      <td>117585.59</td>\n",
       "      <td>124367.66</td>\n",
       "      <td>127306.51</td>\n",
       "      <td>108727.87</td>\n",
       "      <td>119738.320312</td>\n",
       "    </tr>\n",
       "    <tr>\n",
       "      <th>2</th>\n",
       "      <td>184620.49</td>\n",
       "      <td>179240.38</td>\n",
       "      <td>178811.12</td>\n",
       "      <td>188152.90</td>\n",
       "      <td>183325.41</td>\n",
       "      <td>176465.20</td>\n",
       "      <td>196666.72</td>\n",
       "      <td>187716.937500</td>\n",
       "    </tr>\n",
       "    <tr>\n",
       "      <th>3</th>\n",
       "      <td>218776.26</td>\n",
       "      <td>218493.09</td>\n",
       "      <td>218398.58</td>\n",
       "      <td>218802.52</td>\n",
       "      <td>219319.63</td>\n",
       "      <td>224758.51</td>\n",
       "      <td>220381.59</td>\n",
       "      <td>230119.515625</td>\n",
       "    </tr>\n",
       "    <tr>\n",
       "      <th>4</th>\n",
       "      <td>181799.72</td>\n",
       "      <td>182622.82</td>\n",
       "      <td>182671.76</td>\n",
       "      <td>181323.39</td>\n",
       "      <td>182202.07</td>\n",
       "      <td>181285.61</td>\n",
       "      <td>191992.35</td>\n",
       "      <td>172627.281250</td>\n",
       "    </tr>\n",
       "  </tbody>\n",
       "</table>\n",
       "</div>"
      ],
      "text/plain": [
       "   KernelRidge  ElasticNet      Lasso  Gradient Boosting  Bayesian Ridge  \\\n",
       "0    203776.28   204543.22  204607.34          209002.81       203956.08   \n",
       "1    124120.88   126193.37  126406.95          117585.59       124367.66   \n",
       "2    184620.49   179240.38  178811.12          188152.90       183325.41   \n",
       "3    218776.26   218493.09  218398.58          218802.52       219319.63   \n",
       "4    181799.72   182622.82  182671.76          181323.39       182202.07   \n",
       "\n",
       "   Lasso Lars IC  Random Forest        XGBoost  \n",
       "0      201701.91      217498.93  208789.093750  \n",
       "1      127306.51      108727.87  119738.320312  \n",
       "2      176465.20      196666.72  187716.937500  \n",
       "3      224758.51      220381.59  230119.515625  \n",
       "4      181285.61      191992.35  172627.281250  "
      ]
     },
     "execution_count": 49,
     "metadata": {},
     "output_type": "execute_result"
    }
   ],
   "source": [
    "stacked_validation_train.head()"
   ]
  },
  {
   "cell_type": "code",
   "execution_count": 50,
   "metadata": {},
   "outputs": [],
   "source": [
    "stacked_test_train = stacked_test_train.apply(lambda x:round(x,2))\n",
    "stacked_test_train['XGBoost'] = stacked_test_train['XGBoost'].apply(lambda x:round(x,2))"
   ]
  },
  {
   "cell_type": "code",
   "execution_count": 51,
   "metadata": {},
   "outputs": [
    {
     "data": {
      "text/html": [
       "<div>\n",
       "<style scoped>\n",
       "    .dataframe tbody tr th:only-of-type {\n",
       "        vertical-align: middle;\n",
       "    }\n",
       "\n",
       "    .dataframe tbody tr th {\n",
       "        vertical-align: top;\n",
       "    }\n",
       "\n",
       "    .dataframe thead th {\n",
       "        text-align: right;\n",
       "    }\n",
       "</style>\n",
       "<table border=\"1\" class=\"dataframe\">\n",
       "  <thead>\n",
       "    <tr style=\"text-align: right;\">\n",
       "      <th></th>\n",
       "      <th>KernelRidge</th>\n",
       "      <th>ElasticNet</th>\n",
       "      <th>Lasso</th>\n",
       "      <th>Gradient Boosting</th>\n",
       "      <th>Bayesian Ridge</th>\n",
       "      <th>Lasso Lars IC</th>\n",
       "      <th>Random Forest</th>\n",
       "      <th>XGBoost</th>\n",
       "    </tr>\n",
       "  </thead>\n",
       "  <tbody>\n",
       "    <tr>\n",
       "      <th>0</th>\n",
       "      <td>131594.86</td>\n",
       "      <td>131796.23</td>\n",
       "      <td>131800.61</td>\n",
       "      <td>124964.97</td>\n",
       "      <td>131862.13</td>\n",
       "      <td>131449.75</td>\n",
       "      <td>127841.22</td>\n",
       "      <td>127662.96</td>\n",
       "    </tr>\n",
       "    <tr>\n",
       "      <th>1</th>\n",
       "      <td>165695.50</td>\n",
       "      <td>165623.51</td>\n",
       "      <td>165694.83</td>\n",
       "      <td>148316.58</td>\n",
       "      <td>165014.27</td>\n",
       "      <td>164927.39</td>\n",
       "      <td>158167.90</td>\n",
       "      <td>154727.62</td>\n",
       "    </tr>\n",
       "    <tr>\n",
       "      <th>2</th>\n",
       "      <td>189114.69</td>\n",
       "      <td>190192.06</td>\n",
       "      <td>190219.42</td>\n",
       "      <td>188994.70</td>\n",
       "      <td>189842.87</td>\n",
       "      <td>189860.03</td>\n",
       "      <td>185647.01</td>\n",
       "      <td>195367.44</td>\n",
       "    </tr>\n",
       "    <tr>\n",
       "      <th>3</th>\n",
       "      <td>201799.46</td>\n",
       "      <td>202486.98</td>\n",
       "      <td>202495.12</td>\n",
       "      <td>202436.81</td>\n",
       "      <td>202276.31</td>\n",
       "      <td>202701.50</td>\n",
       "      <td>185934.72</td>\n",
       "      <td>195244.23</td>\n",
       "    </tr>\n",
       "    <tr>\n",
       "      <th>4</th>\n",
       "      <td>200049.55</td>\n",
       "      <td>199375.50</td>\n",
       "      <td>199344.81</td>\n",
       "      <td>198031.12</td>\n",
       "      <td>199619.66</td>\n",
       "      <td>195615.25</td>\n",
       "      <td>192866.70</td>\n",
       "      <td>190673.70</td>\n",
       "    </tr>\n",
       "  </tbody>\n",
       "</table>\n",
       "</div>"
      ],
      "text/plain": [
       "   KernelRidge  ElasticNet      Lasso  Gradient Boosting  Bayesian Ridge  \\\n",
       "0    131594.86   131796.23  131800.61          124964.97       131862.13   \n",
       "1    165695.50   165623.51  165694.83          148316.58       165014.27   \n",
       "2    189114.69   190192.06  190219.42          188994.70       189842.87   \n",
       "3    201799.46   202486.98  202495.12          202436.81       202276.31   \n",
       "4    200049.55   199375.50  199344.81          198031.12       199619.66   \n",
       "\n",
       "   Lasso Lars IC  Random Forest    XGBoost  \n",
       "0      131449.75      127841.22  127662.96  \n",
       "1      164927.39      158167.90  154727.62  \n",
       "2      189860.03      185647.01  195367.44  \n",
       "3      202701.50      185934.72  195244.23  \n",
       "4      195615.25      192866.70  190673.70  "
      ]
     },
     "execution_count": 51,
     "metadata": {},
     "output_type": "execute_result"
    }
   ],
   "source": [
    "stacked_test_train.head()"
   ]
  },
  {
   "cell_type": "code",
   "execution_count": 53,
   "metadata": {},
   "outputs": [
    {
     "data": {
      "text/html": [
       "<div>\n",
       "<style scoped>\n",
       "    .dataframe tbody tr th:only-of-type {\n",
       "        vertical-align: middle;\n",
       "    }\n",
       "\n",
       "    .dataframe tbody tr th {\n",
       "        vertical-align: top;\n",
       "    }\n",
       "\n",
       "    .dataframe thead th {\n",
       "        text-align: right;\n",
       "    }\n",
       "</style>\n",
       "<table border=\"1\" class=\"dataframe\">\n",
       "  <thead>\n",
       "    <tr style=\"text-align: right;\">\n",
       "      <th></th>\n",
       "      <th>KernelRidge</th>\n",
       "      <th>ElasticNet</th>\n",
       "      <th>Lasso</th>\n",
       "      <th>Gradient Boosting</th>\n",
       "      <th>Bayesian Ridge</th>\n",
       "      <th>Lasso Lars IC</th>\n",
       "      <th>Random Forest</th>\n",
       "      <th>XGBoost</th>\n",
       "    </tr>\n",
       "  </thead>\n",
       "  <tbody>\n",
       "    <tr>\n",
       "      <th>0</th>\n",
       "      <td>131594.86</td>\n",
       "      <td>131796.23</td>\n",
       "      <td>131800.61</td>\n",
       "      <td>124964.97</td>\n",
       "      <td>131862.13</td>\n",
       "      <td>131449.75</td>\n",
       "      <td>127841.22</td>\n",
       "      <td>127662.96</td>\n",
       "    </tr>\n",
       "    <tr>\n",
       "      <th>1</th>\n",
       "      <td>165695.50</td>\n",
       "      <td>165623.51</td>\n",
       "      <td>165694.83</td>\n",
       "      <td>148316.58</td>\n",
       "      <td>165014.27</td>\n",
       "      <td>164927.39</td>\n",
       "      <td>158167.90</td>\n",
       "      <td>154727.62</td>\n",
       "    </tr>\n",
       "    <tr>\n",
       "      <th>2</th>\n",
       "      <td>189114.69</td>\n",
       "      <td>190192.06</td>\n",
       "      <td>190219.42</td>\n",
       "      <td>188994.70</td>\n",
       "      <td>189842.87</td>\n",
       "      <td>189860.03</td>\n",
       "      <td>185647.01</td>\n",
       "      <td>195367.44</td>\n",
       "    </tr>\n",
       "    <tr>\n",
       "      <th>3</th>\n",
       "      <td>201799.46</td>\n",
       "      <td>202486.98</td>\n",
       "      <td>202495.12</td>\n",
       "      <td>202436.81</td>\n",
       "      <td>202276.31</td>\n",
       "      <td>202701.50</td>\n",
       "      <td>185934.72</td>\n",
       "      <td>195244.23</td>\n",
       "    </tr>\n",
       "    <tr>\n",
       "      <th>4</th>\n",
       "      <td>200049.55</td>\n",
       "      <td>199375.50</td>\n",
       "      <td>199344.81</td>\n",
       "      <td>198031.12</td>\n",
       "      <td>199619.66</td>\n",
       "      <td>195615.25</td>\n",
       "      <td>192866.70</td>\n",
       "      <td>190673.70</td>\n",
       "    </tr>\n",
       "    <tr>\n",
       "      <th>5</th>\n",
       "      <td>184262.98</td>\n",
       "      <td>185365.73</td>\n",
       "      <td>185498.56</td>\n",
       "      <td>176178.23</td>\n",
       "      <td>184241.67</td>\n",
       "      <td>182545.30</td>\n",
       "      <td>178415.29</td>\n",
       "      <td>180536.42</td>\n",
       "    </tr>\n",
       "    <tr>\n",
       "      <th>6</th>\n",
       "      <td>182667.00</td>\n",
       "      <td>182884.82</td>\n",
       "      <td>182862.41</td>\n",
       "      <td>172010.85</td>\n",
       "      <td>183021.30</td>\n",
       "      <td>180967.61</td>\n",
       "      <td>166657.03</td>\n",
       "      <td>179966.09</td>\n",
       "    </tr>\n",
       "    <tr>\n",
       "      <th>7</th>\n",
       "      <td>171924.68</td>\n",
       "      <td>173023.71</td>\n",
       "      <td>173071.36</td>\n",
       "      <td>161409.72</td>\n",
       "      <td>172484.88</td>\n",
       "      <td>173750.12</td>\n",
       "      <td>174231.28</td>\n",
       "      <td>160944.09</td>\n",
       "    </tr>\n",
       "    <tr>\n",
       "      <th>8</th>\n",
       "      <td>197485.94</td>\n",
       "      <td>198428.11</td>\n",
       "      <td>198518.77</td>\n",
       "      <td>192471.32</td>\n",
       "      <td>197637.92</td>\n",
       "      <td>195576.86</td>\n",
       "      <td>196311.57</td>\n",
       "      <td>188860.95</td>\n",
       "    </tr>\n",
       "    <tr>\n",
       "      <th>9</th>\n",
       "      <td>119138.24</td>\n",
       "      <td>119010.28</td>\n",
       "      <td>119018.08</td>\n",
       "      <td>120679.29</td>\n",
       "      <td>118799.26</td>\n",
       "      <td>119350.83</td>\n",
       "      <td>125043.60</td>\n",
       "      <td>125616.81</td>\n",
       "    </tr>\n",
       "    <tr>\n",
       "      <th>10</th>\n",
       "      <td>197864.28</td>\n",
       "      <td>197847.80</td>\n",
       "      <td>197873.80</td>\n",
       "      <td>204312.57</td>\n",
       "      <td>197575.28</td>\n",
       "      <td>198796.71</td>\n",
       "      <td>198732.29</td>\n",
       "      <td>196180.91</td>\n",
       "    </tr>\n",
       "    <tr>\n",
       "      <th>11</th>\n",
       "      <td>110660.63</td>\n",
       "      <td>109934.10</td>\n",
       "      <td>109936.77</td>\n",
       "      <td>91437.90</td>\n",
       "      <td>109987.38</td>\n",
       "      <td>114071.16</td>\n",
       "      <td>96308.16</td>\n",
       "      <td>90534.84</td>\n",
       "    </tr>\n",
       "    <tr>\n",
       "      <th>12</th>\n",
       "      <td>106025.36</td>\n",
       "      <td>105774.83</td>\n",
       "      <td>105782.72</td>\n",
       "      <td>101388.59</td>\n",
       "      <td>105776.43</td>\n",
       "      <td>108486.64</td>\n",
       "      <td>107210.04</td>\n",
       "      <td>94583.57</td>\n",
       "    </tr>\n",
       "    <tr>\n",
       "      <th>13</th>\n",
       "      <td>162852.15</td>\n",
       "      <td>164166.51</td>\n",
       "      <td>164287.08</td>\n",
       "      <td>152828.63</td>\n",
       "      <td>162998.84</td>\n",
       "      <td>163228.77</td>\n",
       "      <td>156504.50</td>\n",
       "      <td>151076.89</td>\n",
       "    </tr>\n",
       "    <tr>\n",
       "      <th>14</th>\n",
       "      <td>125653.00</td>\n",
       "      <td>125518.26</td>\n",
       "      <td>125508.08</td>\n",
       "      <td>130018.31</td>\n",
       "      <td>125531.92</td>\n",
       "      <td>125626.98</td>\n",
       "      <td>148168.07</td>\n",
       "      <td>111496.39</td>\n",
       "    </tr>\n",
       "    <tr>\n",
       "      <th>15</th>\n",
       "      <td>260937.24</td>\n",
       "      <td>260127.01</td>\n",
       "      <td>259981.41</td>\n",
       "      <td>276898.39</td>\n",
       "      <td>261220.83</td>\n",
       "      <td>264346.65</td>\n",
       "      <td>238520.68</td>\n",
       "      <td>266212.09</td>\n",
       "    </tr>\n",
       "    <tr>\n",
       "      <th>16</th>\n",
       "      <td>216967.98</td>\n",
       "      <td>216773.96</td>\n",
       "      <td>216721.70</td>\n",
       "      <td>244966.26</td>\n",
       "      <td>217267.79</td>\n",
       "      <td>217177.21</td>\n",
       "      <td>243478.42</td>\n",
       "      <td>245820.52</td>\n",
       "    </tr>\n",
       "    <tr>\n",
       "      <th>17</th>\n",
       "      <td>244928.00</td>\n",
       "      <td>242011.45</td>\n",
       "      <td>241769.31</td>\n",
       "      <td>265229.65</td>\n",
       "      <td>244223.63</td>\n",
       "      <td>243774.10</td>\n",
       "      <td>255556.48</td>\n",
       "      <td>264284.53</td>\n",
       "    </tr>\n",
       "    <tr>\n",
       "      <th>18</th>\n",
       "      <td>240454.19</td>\n",
       "      <td>241627.37</td>\n",
       "      <td>241739.47</td>\n",
       "      <td>248407.06</td>\n",
       "      <td>240616.28</td>\n",
       "      <td>240527.00</td>\n",
       "      <td>225790.59</td>\n",
       "      <td>233601.80</td>\n",
       "    </tr>\n",
       "    <tr>\n",
       "      <th>19</th>\n",
       "      <td>303690.16</td>\n",
       "      <td>302377.84</td>\n",
       "      <td>302370.91</td>\n",
       "      <td>267151.83</td>\n",
       "      <td>302457.48</td>\n",
       "      <td>297869.38</td>\n",
       "      <td>248845.19</td>\n",
       "      <td>289492.88</td>\n",
       "    </tr>\n",
       "    <tr>\n",
       "      <th>20</th>\n",
       "      <td>253835.66</td>\n",
       "      <td>252594.62</td>\n",
       "      <td>252373.78</td>\n",
       "      <td>268207.34</td>\n",
       "      <td>254331.72</td>\n",
       "      <td>256850.22</td>\n",
       "      <td>255930.01</td>\n",
       "      <td>276640.81</td>\n",
       "    </tr>\n",
       "    <tr>\n",
       "      <th>21</th>\n",
       "      <td>212890.24</td>\n",
       "      <td>212608.92</td>\n",
       "      <td>212599.24</td>\n",
       "      <td>204352.86</td>\n",
       "      <td>212636.44</td>\n",
       "      <td>212536.26</td>\n",
       "      <td>206537.49</td>\n",
       "      <td>211584.98</td>\n",
       "    </tr>\n",
       "    <tr>\n",
       "      <th>22</th>\n",
       "      <td>188215.69</td>\n",
       "      <td>189581.05</td>\n",
       "      <td>189654.58</td>\n",
       "      <td>166321.13</td>\n",
       "      <td>188841.84</td>\n",
       "      <td>188020.99</td>\n",
       "      <td>160868.07</td>\n",
       "      <td>165720.47</td>\n",
       "    </tr>\n",
       "    <tr>\n",
       "      <th>23</th>\n",
       "      <td>181383.18</td>\n",
       "      <td>180558.08</td>\n",
       "      <td>180482.60</td>\n",
       "      <td>164029.16</td>\n",
       "      <td>181098.82</td>\n",
       "      <td>179491.90</td>\n",
       "      <td>169200.96</td>\n",
       "      <td>169882.30</td>\n",
       "    </tr>\n",
       "    <tr>\n",
       "      <th>24</th>\n",
       "      <td>198814.92</td>\n",
       "      <td>199298.13</td>\n",
       "      <td>199305.59</td>\n",
       "      <td>177431.99</td>\n",
       "      <td>199136.51</td>\n",
       "      <td>199252.66</td>\n",
       "      <td>171669.65</td>\n",
       "      <td>172028.09</td>\n",
       "    </tr>\n",
       "    <tr>\n",
       "      <th>25</th>\n",
       "      <td>205108.88</td>\n",
       "      <td>206170.07</td>\n",
       "      <td>206290.79</td>\n",
       "      <td>196070.33</td>\n",
       "      <td>205080.67</td>\n",
       "      <td>203953.30</td>\n",
       "      <td>196795.01</td>\n",
       "      <td>202013.34</td>\n",
       "    </tr>\n",
       "    <tr>\n",
       "      <th>26</th>\n",
       "      <td>261532.67</td>\n",
       "      <td>260901.63</td>\n",
       "      <td>260803.80</td>\n",
       "      <td>267156.51</td>\n",
       "      <td>261628.84</td>\n",
       "      <td>261289.98</td>\n",
       "      <td>228426.05</td>\n",
       "      <td>262310.91</td>\n",
       "    </tr>\n",
       "    <tr>\n",
       "      <th>27</th>\n",
       "      <td>220347.69</td>\n",
       "      <td>220208.84</td>\n",
       "      <td>220211.57</td>\n",
       "      <td>237616.06</td>\n",
       "      <td>220213.00</td>\n",
       "      <td>220658.30</td>\n",
       "      <td>244155.29</td>\n",
       "      <td>237734.05</td>\n",
       "    </tr>\n",
       "    <tr>\n",
       "      <th>28</th>\n",
       "      <td>184352.48</td>\n",
       "      <td>185441.27</td>\n",
       "      <td>185458.68</td>\n",
       "      <td>205304.07</td>\n",
       "      <td>185287.04</td>\n",
       "      <td>185476.63</td>\n",
       "      <td>215517.78</td>\n",
       "      <td>209834.77</td>\n",
       "    </tr>\n",
       "    <tr>\n",
       "      <th>29</th>\n",
       "      <td>213130.19</td>\n",
       "      <td>214746.07</td>\n",
       "      <td>214833.67</td>\n",
       "      <td>203088.26</td>\n",
       "      <td>213906.81</td>\n",
       "      <td>209869.33</td>\n",
       "      <td>191576.32</td>\n",
       "      <td>218483.42</td>\n",
       "    </tr>\n",
       "    <tr>\n",
       "      <th>...</th>\n",
       "      <td>...</td>\n",
       "      <td>...</td>\n",
       "      <td>...</td>\n",
       "      <td>...</td>\n",
       "      <td>...</td>\n",
       "      <td>...</td>\n",
       "      <td>...</td>\n",
       "      <td>...</td>\n",
       "    </tr>\n",
       "    <tr>\n",
       "      <th>1429</th>\n",
       "      <td>79197.23</td>\n",
       "      <td>79089.42</td>\n",
       "      <td>79241.13</td>\n",
       "      <td>91100.57</td>\n",
       "      <td>77531.91</td>\n",
       "      <td>79454.41</td>\n",
       "      <td>78740.87</td>\n",
       "      <td>80915.81</td>\n",
       "    </tr>\n",
       "    <tr>\n",
       "      <th>1430</th>\n",
       "      <td>145141.58</td>\n",
       "      <td>145770.56</td>\n",
       "      <td>145852.65</td>\n",
       "      <td>129241.85</td>\n",
       "      <td>144994.47</td>\n",
       "      <td>149896.58</td>\n",
       "      <td>133203.74</td>\n",
       "      <td>129028.12</td>\n",
       "    </tr>\n",
       "    <tr>\n",
       "      <th>1431</th>\n",
       "      <td>29951.15</td>\n",
       "      <td>28816.08</td>\n",
       "      <td>28516.36</td>\n",
       "      <td>40973.33</td>\n",
       "      <td>31624.97</td>\n",
       "      <td>35853.48</td>\n",
       "      <td>73551.62</td>\n",
       "      <td>37415.82</td>\n",
       "    </tr>\n",
       "    <tr>\n",
       "      <th>1432</th>\n",
       "      <td>103438.97</td>\n",
       "      <td>105587.93</td>\n",
       "      <td>105556.27</td>\n",
       "      <td>94909.63</td>\n",
       "      <td>105839.13</td>\n",
       "      <td>113939.90</td>\n",
       "      <td>121216.19</td>\n",
       "      <td>85495.45</td>\n",
       "    </tr>\n",
       "    <tr>\n",
       "      <th>1433</th>\n",
       "      <td>48771.66</td>\n",
       "      <td>48059.33</td>\n",
       "      <td>47937.20</td>\n",
       "      <td>44022.64</td>\n",
       "      <td>49215.34</td>\n",
       "      <td>53758.94</td>\n",
       "      <td>73278.40</td>\n",
       "      <td>51433.52</td>\n",
       "    </tr>\n",
       "    <tr>\n",
       "      <th>1434</th>\n",
       "      <td>245749.98</td>\n",
       "      <td>245982.74</td>\n",
       "      <td>246049.08</td>\n",
       "      <td>261517.40</td>\n",
       "      <td>245332.68</td>\n",
       "      <td>242788.32</td>\n",
       "      <td>253549.64</td>\n",
       "      <td>266453.50</td>\n",
       "    </tr>\n",
       "    <tr>\n",
       "      <th>1435</th>\n",
       "      <td>234197.12</td>\n",
       "      <td>233930.43</td>\n",
       "      <td>233915.21</td>\n",
       "      <td>265088.97</td>\n",
       "      <td>234046.38</td>\n",
       "      <td>230690.71</td>\n",
       "      <td>262708.42</td>\n",
       "      <td>263569.94</td>\n",
       "    </tr>\n",
       "    <tr>\n",
       "      <th>1436</th>\n",
       "      <td>229256.18</td>\n",
       "      <td>230693.00</td>\n",
       "      <td>230929.72</td>\n",
       "      <td>210139.21</td>\n",
       "      <td>228405.74</td>\n",
       "      <td>224026.97</td>\n",
       "      <td>208388.24</td>\n",
       "      <td>202513.05</td>\n",
       "    </tr>\n",
       "    <tr>\n",
       "      <th>1437</th>\n",
       "      <td>170668.18</td>\n",
       "      <td>172929.34</td>\n",
       "      <td>173138.65</td>\n",
       "      <td>156146.02</td>\n",
       "      <td>171097.77</td>\n",
       "      <td>169821.18</td>\n",
       "      <td>141173.49</td>\n",
       "      <td>153797.02</td>\n",
       "    </tr>\n",
       "    <tr>\n",
       "      <th>1438</th>\n",
       "      <td>207958.61</td>\n",
       "      <td>208111.29</td>\n",
       "      <td>208136.19</td>\n",
       "      <td>215535.91</td>\n",
       "      <td>207895.67</td>\n",
       "      <td>205461.04</td>\n",
       "      <td>225314.37</td>\n",
       "      <td>217339.55</td>\n",
       "    </tr>\n",
       "    <tr>\n",
       "      <th>1439</th>\n",
       "      <td>159565.38</td>\n",
       "      <td>160474.18</td>\n",
       "      <td>160506.21</td>\n",
       "      <td>160713.58</td>\n",
       "      <td>160231.45</td>\n",
       "      <td>160787.09</td>\n",
       "      <td>157675.65</td>\n",
       "      <td>156411.62</td>\n",
       "    </tr>\n",
       "    <tr>\n",
       "      <th>1440</th>\n",
       "      <td>199947.89</td>\n",
       "      <td>199973.34</td>\n",
       "      <td>199987.41</td>\n",
       "      <td>203792.87</td>\n",
       "      <td>199990.64</td>\n",
       "      <td>195894.22</td>\n",
       "      <td>178661.67</td>\n",
       "      <td>193422.98</td>\n",
       "    </tr>\n",
       "    <tr>\n",
       "      <th>1441</th>\n",
       "      <td>190077.94</td>\n",
       "      <td>191876.26</td>\n",
       "      <td>191987.48</td>\n",
       "      <td>186697.21</td>\n",
       "      <td>190845.84</td>\n",
       "      <td>186980.33</td>\n",
       "      <td>183845.64</td>\n",
       "      <td>190437.44</td>\n",
       "    </tr>\n",
       "    <tr>\n",
       "      <th>1442</th>\n",
       "      <td>260117.34</td>\n",
       "      <td>259051.95</td>\n",
       "      <td>258966.75</td>\n",
       "      <td>272373.38</td>\n",
       "      <td>259821.86</td>\n",
       "      <td>255612.44</td>\n",
       "      <td>257339.65</td>\n",
       "      <td>269219.84</td>\n",
       "    </tr>\n",
       "    <tr>\n",
       "      <th>1443</th>\n",
       "      <td>268331.85</td>\n",
       "      <td>266420.71</td>\n",
       "      <td>266309.83</td>\n",
       "      <td>248010.36</td>\n",
       "      <td>267369.81</td>\n",
       "      <td>263090.87</td>\n",
       "      <td>250285.96</td>\n",
       "      <td>267994.22</td>\n",
       "    </tr>\n",
       "    <tr>\n",
       "      <th>1444</th>\n",
       "      <td>68246.88</td>\n",
       "      <td>70936.22</td>\n",
       "      <td>71014.65</td>\n",
       "      <td>102564.57</td>\n",
       "      <td>70370.44</td>\n",
       "      <td>73979.68</td>\n",
       "      <td>125987.62</td>\n",
       "      <td>92779.30</td>\n",
       "    </tr>\n",
       "    <tr>\n",
       "      <th>1445</th>\n",
       "      <td>196835.94</td>\n",
       "      <td>195768.54</td>\n",
       "      <td>195660.32</td>\n",
       "      <td>203594.29</td>\n",
       "      <td>196680.60</td>\n",
       "      <td>195630.23</td>\n",
       "      <td>202607.23</td>\n",
       "      <td>200866.98</td>\n",
       "    </tr>\n",
       "    <tr>\n",
       "      <th>1446</th>\n",
       "      <td>134493.65</td>\n",
       "      <td>137091.55</td>\n",
       "      <td>137350.39</td>\n",
       "      <td>119112.37</td>\n",
       "      <td>134803.29</td>\n",
       "      <td>134032.68</td>\n",
       "      <td>116058.70</td>\n",
       "      <td>113631.87</td>\n",
       "    </tr>\n",
       "    <tr>\n",
       "      <th>1447</th>\n",
       "      <td>137522.67</td>\n",
       "      <td>137964.41</td>\n",
       "      <td>137927.98</td>\n",
       "      <td>134107.74</td>\n",
       "      <td>138210.23</td>\n",
       "      <td>137551.97</td>\n",
       "      <td>128598.36</td>\n",
       "      <td>131027.77</td>\n",
       "    </tr>\n",
       "    <tr>\n",
       "      <th>1448</th>\n",
       "      <td>167540.43</td>\n",
       "      <td>169018.47</td>\n",
       "      <td>169187.22</td>\n",
       "      <td>137769.50</td>\n",
       "      <td>167572.62</td>\n",
       "      <td>166645.99</td>\n",
       "      <td>145854.74</td>\n",
       "      <td>145509.17</td>\n",
       "    </tr>\n",
       "    <tr>\n",
       "      <th>1449</th>\n",
       "      <td>70028.71</td>\n",
       "      <td>71677.24</td>\n",
       "      <td>71760.42</td>\n",
       "      <td>81139.72</td>\n",
       "      <td>70788.57</td>\n",
       "      <td>73703.59</td>\n",
       "      <td>89859.69</td>\n",
       "      <td>86231.98</td>\n",
       "    </tr>\n",
       "    <tr>\n",
       "      <th>1450</th>\n",
       "      <td>88663.88</td>\n",
       "      <td>90595.06</td>\n",
       "      <td>90776.22</td>\n",
       "      <td>85220.21</td>\n",
       "      <td>88989.56</td>\n",
       "      <td>92377.04</td>\n",
       "      <td>97067.79</td>\n",
       "      <td>76774.94</td>\n",
       "    </tr>\n",
       "    <tr>\n",
       "      <th>1451</th>\n",
       "      <td>158107.41</td>\n",
       "      <td>158744.35</td>\n",
       "      <td>158799.63</td>\n",
       "      <td>146668.64</td>\n",
       "      <td>158266.69</td>\n",
       "      <td>159658.69</td>\n",
       "      <td>150824.20</td>\n",
       "      <td>153786.39</td>\n",
       "    </tr>\n",
       "    <tr>\n",
       "      <th>1452</th>\n",
       "      <td>89846.05</td>\n",
       "      <td>91534.38</td>\n",
       "      <td>91668.05</td>\n",
       "      <td>96976.89</td>\n",
       "      <td>90366.55</td>\n",
       "      <td>92802.75</td>\n",
       "      <td>99065.68</td>\n",
       "      <td>91644.77</td>\n",
       "    </tr>\n",
       "    <tr>\n",
       "      <th>1453</th>\n",
       "      <td>82767.21</td>\n",
       "      <td>85374.42</td>\n",
       "      <td>85596.04</td>\n",
       "      <td>81598.93</td>\n",
       "      <td>83387.23</td>\n",
       "      <td>86276.68</td>\n",
       "      <td>95247.26</td>\n",
       "      <td>77897.29</td>\n",
       "    </tr>\n",
       "    <tr>\n",
       "      <th>1454</th>\n",
       "      <td>89320.89</td>\n",
       "      <td>93243.94</td>\n",
       "      <td>93555.93</td>\n",
       "      <td>88344.28</td>\n",
       "      <td>90442.57</td>\n",
       "      <td>93070.74</td>\n",
       "      <td>95649.70</td>\n",
       "      <td>90226.45</td>\n",
       "    </tr>\n",
       "    <tr>\n",
       "      <th>1455</th>\n",
       "      <td>92955.45</td>\n",
       "      <td>94387.44</td>\n",
       "      <td>94512.80</td>\n",
       "      <td>90436.69</td>\n",
       "      <td>93285.23</td>\n",
       "      <td>95871.45</td>\n",
       "      <td>99573.26</td>\n",
       "      <td>87027.50</td>\n",
       "    </tr>\n",
       "    <tr>\n",
       "      <th>1456</th>\n",
       "      <td>173898.13</td>\n",
       "      <td>174498.61</td>\n",
       "      <td>174497.76</td>\n",
       "      <td>173106.10</td>\n",
       "      <td>174589.69</td>\n",
       "      <td>169294.13</td>\n",
       "      <td>148638.16</td>\n",
       "      <td>180314.31</td>\n",
       "    </tr>\n",
       "    <tr>\n",
       "      <th>1457</th>\n",
       "      <td>137421.68</td>\n",
       "      <td>139790.31</td>\n",
       "      <td>139910.13</td>\n",
       "      <td>116703.55</td>\n",
       "      <td>138679.12</td>\n",
       "      <td>139545.72</td>\n",
       "      <td>119837.03</td>\n",
       "      <td>117575.74</td>\n",
       "    </tr>\n",
       "    <tr>\n",
       "      <th>1458</th>\n",
       "      <td>220282.99</td>\n",
       "      <td>219829.91</td>\n",
       "      <td>219817.03</td>\n",
       "      <td>224100.45</td>\n",
       "      <td>219999.96</td>\n",
       "      <td>218173.92</td>\n",
       "      <td>232273.68</td>\n",
       "      <td>222084.09</td>\n",
       "    </tr>\n",
       "  </tbody>\n",
       "</table>\n",
       "<p>1459 rows × 8 columns</p>\n",
       "</div>"
      ],
      "text/plain": [
       "      KernelRidge  ElasticNet      Lasso  Gradient Boosting  Bayesian Ridge  \\\n",
       "0       131594.86   131796.23  131800.61          124964.97       131862.13   \n",
       "1       165695.50   165623.51  165694.83          148316.58       165014.27   \n",
       "2       189114.69   190192.06  190219.42          188994.70       189842.87   \n",
       "3       201799.46   202486.98  202495.12          202436.81       202276.31   \n",
       "4       200049.55   199375.50  199344.81          198031.12       199619.66   \n",
       "5       184262.98   185365.73  185498.56          176178.23       184241.67   \n",
       "6       182667.00   182884.82  182862.41          172010.85       183021.30   \n",
       "7       171924.68   173023.71  173071.36          161409.72       172484.88   \n",
       "8       197485.94   198428.11  198518.77          192471.32       197637.92   \n",
       "9       119138.24   119010.28  119018.08          120679.29       118799.26   \n",
       "10      197864.28   197847.80  197873.80          204312.57       197575.28   \n",
       "11      110660.63   109934.10  109936.77           91437.90       109987.38   \n",
       "12      106025.36   105774.83  105782.72          101388.59       105776.43   \n",
       "13      162852.15   164166.51  164287.08          152828.63       162998.84   \n",
       "14      125653.00   125518.26  125508.08          130018.31       125531.92   \n",
       "15      260937.24   260127.01  259981.41          276898.39       261220.83   \n",
       "16      216967.98   216773.96  216721.70          244966.26       217267.79   \n",
       "17      244928.00   242011.45  241769.31          265229.65       244223.63   \n",
       "18      240454.19   241627.37  241739.47          248407.06       240616.28   \n",
       "19      303690.16   302377.84  302370.91          267151.83       302457.48   \n",
       "20      253835.66   252594.62  252373.78          268207.34       254331.72   \n",
       "21      212890.24   212608.92  212599.24          204352.86       212636.44   \n",
       "22      188215.69   189581.05  189654.58          166321.13       188841.84   \n",
       "23      181383.18   180558.08  180482.60          164029.16       181098.82   \n",
       "24      198814.92   199298.13  199305.59          177431.99       199136.51   \n",
       "25      205108.88   206170.07  206290.79          196070.33       205080.67   \n",
       "26      261532.67   260901.63  260803.80          267156.51       261628.84   \n",
       "27      220347.69   220208.84  220211.57          237616.06       220213.00   \n",
       "28      184352.48   185441.27  185458.68          205304.07       185287.04   \n",
       "29      213130.19   214746.07  214833.67          203088.26       213906.81   \n",
       "...           ...         ...        ...                ...             ...   \n",
       "1429     79197.23    79089.42   79241.13           91100.57        77531.91   \n",
       "1430    145141.58   145770.56  145852.65          129241.85       144994.47   \n",
       "1431     29951.15    28816.08   28516.36           40973.33        31624.97   \n",
       "1432    103438.97   105587.93  105556.27           94909.63       105839.13   \n",
       "1433     48771.66    48059.33   47937.20           44022.64        49215.34   \n",
       "1434    245749.98   245982.74  246049.08          261517.40       245332.68   \n",
       "1435    234197.12   233930.43  233915.21          265088.97       234046.38   \n",
       "1436    229256.18   230693.00  230929.72          210139.21       228405.74   \n",
       "1437    170668.18   172929.34  173138.65          156146.02       171097.77   \n",
       "1438    207958.61   208111.29  208136.19          215535.91       207895.67   \n",
       "1439    159565.38   160474.18  160506.21          160713.58       160231.45   \n",
       "1440    199947.89   199973.34  199987.41          203792.87       199990.64   \n",
       "1441    190077.94   191876.26  191987.48          186697.21       190845.84   \n",
       "1442    260117.34   259051.95  258966.75          272373.38       259821.86   \n",
       "1443    268331.85   266420.71  266309.83          248010.36       267369.81   \n",
       "1444     68246.88    70936.22   71014.65          102564.57        70370.44   \n",
       "1445    196835.94   195768.54  195660.32          203594.29       196680.60   \n",
       "1446    134493.65   137091.55  137350.39          119112.37       134803.29   \n",
       "1447    137522.67   137964.41  137927.98          134107.74       138210.23   \n",
       "1448    167540.43   169018.47  169187.22          137769.50       167572.62   \n",
       "1449     70028.71    71677.24   71760.42           81139.72        70788.57   \n",
       "1450     88663.88    90595.06   90776.22           85220.21        88989.56   \n",
       "1451    158107.41   158744.35  158799.63          146668.64       158266.69   \n",
       "1452     89846.05    91534.38   91668.05           96976.89        90366.55   \n",
       "1453     82767.21    85374.42   85596.04           81598.93        83387.23   \n",
       "1454     89320.89    93243.94   93555.93           88344.28        90442.57   \n",
       "1455     92955.45    94387.44   94512.80           90436.69        93285.23   \n",
       "1456    173898.13   174498.61  174497.76          173106.10       174589.69   \n",
       "1457    137421.68   139790.31  139910.13          116703.55       138679.12   \n",
       "1458    220282.99   219829.91  219817.03          224100.45       219999.96   \n",
       "\n",
       "      Lasso Lars IC  Random Forest    XGBoost  \n",
       "0         131449.75      127841.22  127662.96  \n",
       "1         164927.39      158167.90  154727.62  \n",
       "2         189860.03      185647.01  195367.44  \n",
       "3         202701.50      185934.72  195244.23  \n",
       "4         195615.25      192866.70  190673.70  \n",
       "5         182545.30      178415.29  180536.42  \n",
       "6         180967.61      166657.03  179966.09  \n",
       "7         173750.12      174231.28  160944.09  \n",
       "8         195576.86      196311.57  188860.95  \n",
       "9         119350.83      125043.60  125616.81  \n",
       "10        198796.71      198732.29  196180.91  \n",
       "11        114071.16       96308.16   90534.84  \n",
       "12        108486.64      107210.04   94583.57  \n",
       "13        163228.77      156504.50  151076.89  \n",
       "14        125626.98      148168.07  111496.39  \n",
       "15        264346.65      238520.68  266212.09  \n",
       "16        217177.21      243478.42  245820.52  \n",
       "17        243774.10      255556.48  264284.53  \n",
       "18        240527.00      225790.59  233601.80  \n",
       "19        297869.38      248845.19  289492.88  \n",
       "20        256850.22      255930.01  276640.81  \n",
       "21        212536.26      206537.49  211584.98  \n",
       "22        188020.99      160868.07  165720.47  \n",
       "23        179491.90      169200.96  169882.30  \n",
       "24        199252.66      171669.65  172028.09  \n",
       "25        203953.30      196795.01  202013.34  \n",
       "26        261289.98      228426.05  262310.91  \n",
       "27        220658.30      244155.29  237734.05  \n",
       "28        185476.63      215517.78  209834.77  \n",
       "29        209869.33      191576.32  218483.42  \n",
       "...             ...            ...        ...  \n",
       "1429       79454.41       78740.87   80915.81  \n",
       "1430      149896.58      133203.74  129028.12  \n",
       "1431       35853.48       73551.62   37415.82  \n",
       "1432      113939.90      121216.19   85495.45  \n",
       "1433       53758.94       73278.40   51433.52  \n",
       "1434      242788.32      253549.64  266453.50  \n",
       "1435      230690.71      262708.42  263569.94  \n",
       "1436      224026.97      208388.24  202513.05  \n",
       "1437      169821.18      141173.49  153797.02  \n",
       "1438      205461.04      225314.37  217339.55  \n",
       "1439      160787.09      157675.65  156411.62  \n",
       "1440      195894.22      178661.67  193422.98  \n",
       "1441      186980.33      183845.64  190437.44  \n",
       "1442      255612.44      257339.65  269219.84  \n",
       "1443      263090.87      250285.96  267994.22  \n",
       "1444       73979.68      125987.62   92779.30  \n",
       "1445      195630.23      202607.23  200866.98  \n",
       "1446      134032.68      116058.70  113631.87  \n",
       "1447      137551.97      128598.36  131027.77  \n",
       "1448      166645.99      145854.74  145509.17  \n",
       "1449       73703.59       89859.69   86231.98  \n",
       "1450       92377.04       97067.79   76774.94  \n",
       "1451      159658.69      150824.20  153786.39  \n",
       "1452       92802.75       99065.68   91644.77  \n",
       "1453       86276.68       95247.26   77897.29  \n",
       "1454       93070.74       95649.70   90226.45  \n",
       "1455       95871.45       99573.26   87027.50  \n",
       "1456      169294.13      148638.16  180314.31  \n",
       "1457      139545.72      119837.03  117575.74  \n",
       "1458      218173.92      232273.68  222084.09  \n",
       "\n",
       "[1459 rows x 8 columns]"
      ]
     },
     "execution_count": 53,
     "metadata": {},
     "output_type": "execute_result"
    }
   ],
   "source": [
    "stacked_test_train"
   ]
  },
  {
   "cell_type": "markdown",
   "metadata": {},
   "source": [
    "### 3.5 Ensemble\n",
    "#### 3.51 Train and Optimise Bagging model then make predictions"
   ]
  },
  {
   "cell_type": "code",
   "execution_count": 54,
   "metadata": {},
   "outputs": [],
   "source": [
    "from sklearn.model_selection import cross_val_predict, GridSearchCV\n",
    "from sklearn.ensemble import RandomForestRegressor\n",
    "from sklearn.preprocessing import MinMaxScaler"
   ]
  },
  {
   "cell_type": "code",
   "execution_count": 55,
   "metadata": {},
   "outputs": [],
   "source": [
    "def rfr_model(X, y,stacked_test_train):\n",
    "\n",
    "# Perform Grid-Search\n",
    "    gsc = GridSearchCV(\n",
    "        estimator=RandomForestRegressor(),\n",
    "        param_grid={\n",
    "            'max_depth': range(3,7),\n",
    "            'n_estimators': (10, 50, 100, 1000),\n",
    "        },\n",
    "        cv=5, scoring='neg_mean_squared_error', verbose=0,n_jobs=-1)\n",
    "    \n",
    "    grid_result = gsc.fit(X, y)\n",
    "    best_params = grid_result.best_params_\n",
    "    \n",
    "    rfr = RandomForestRegressor(max_depth=best_params[\"max_depth\"], n_estimators=best_params[\"n_estimators\"],random_state=False, verbose=False)\n",
    "    \n",
    "# Perform K-Fold CV\n",
    "    scores = cross_val_score(rfr, X, y, cv=10, scoring='mean_squared_error')\n",
    "    rfr.fit(X, y)\n",
    "    pred = rfr.predict(stacked_test_train)\n",
    "\n",
    "    return scores, pred"
   ]
  },
  {
   "cell_type": "code",
   "execution_count": 56,
   "metadata": {},
   "outputs": [
    {
     "name": "stdout",
     "output_type": "stream",
     "text": [
      "16655.112984955795\n"
     ]
    }
   ],
   "source": [
    "#first train the bagging model and get scores\n",
    "bagging_scores,bagging_pred = rfr_model(stacked_validation_train,Y_test,stacked_test_train)\n",
    "print(np.mean(np.sqrt(abs(bagging_scores))))#the scores are returned with signs flipped, refer: https://github.com/scikit-learn/scikit-learn/issues/2439"
   ]
  },
  {
   "cell_type": "code",
   "execution_count": 78,
   "metadata": {},
   "outputs": [
    {
     "data": {
      "text/plain": [
       "array([129294.85628184, 159108.76932105, 190767.2710666 , ...,\n",
       "       174247.28834618, 117588.45835977, 221952.05168845])"
      ]
     },
     "execution_count": 78,
     "metadata": {},
     "output_type": "execute_result"
    }
   ],
   "source": [
    "bagging_pred"
   ]
  },
  {
   "cell_type": "markdown",
   "metadata": {},
   "source": [
    "#### 3.52 Train and Optimise Boosting model then make predictions"
   ]
  },
  {
   "cell_type": "code",
   "execution_count": 57,
   "metadata": {},
   "outputs": [],
   "source": [
    "from sklearn.ensemble import GradientBoostingRegressor\n",
    "from sklearn.metrics import mean_squared_error, make_scorer"
   ]
  },
  {
   "cell_type": "code",
   "execution_count": 62,
   "metadata": {},
   "outputs": [],
   "source": [
    "GB = GradientBoostingRegressor()"
   ]
  },
  {
   "cell_type": "code",
   "execution_count": 63,
   "metadata": {},
   "outputs": [],
   "source": [
    "def GB_model(X, y,stacked_test_train):\n",
    "# Perform Grid-Search\n",
    "    parameters = {\n",
    "    \"learning_rate\": [0.01, 0.025, 0.05, 0.075, 0.1, 0.15, 0.2],\n",
    "    \"max_depth\":[3,5,8],\n",
    "    \"max_features\":[\"log2\",\"sqrt\"],\n",
    "    \"subsample\":[0.5, 0.75, 0.8, 0.85, 0.9, 0.95, 1.0]\n",
    "     }\n",
    "    gb = GradientBoostingRegressor()\n",
    "    gsc = GridSearchCV(GB, parameters, cv=10, n_jobs=-1)\n",
    "    \n",
    "    grid_result = gsc.fit(X, y)\n",
    "    pred = gsc.predict(stacked_test_train)\n",
    "    best_params = grid_result.best_params_\n",
    "\n",
    "# Perform K-Fold CV\n",
    "    scores = cross_val_score(gsc, X, y, cv=10, scoring='mean_squared_error')\n",
    "\n",
    "    return scores,pred"
   ]
  },
  {
   "cell_type": "code",
   "execution_count": 64,
   "metadata": {},
   "outputs": [
    {
     "name": "stdout",
     "output_type": "stream",
     "text": [
      "[126441.40453445 160726.97012103 194018.54951258 ... 168723.406925\n",
      " 119649.97425115 221438.37382731]\n"
     ]
    }
   ],
   "source": [
    "GB_scores,GB_pred=GB_model(stacked_validation_train,Y_test,stacked_test_train)\n",
    "print(GB_pred)"
   ]
  },
  {
   "cell_type": "code",
   "execution_count": 81,
   "metadata": {},
   "outputs": [
    {
     "data": {
      "text/plain": [
       "16878.448387452343"
      ]
     },
     "execution_count": 81,
     "metadata": {},
     "output_type": "execute_result"
    }
   ],
   "source": [
    "np.mean(np.sqrt(list(abs(GB_scores))))"
   ]
  },
  {
   "cell_type": "markdown",
   "metadata": {},
   "source": [
    "# Module 5: Make Submission Files"
   ]
  },
  {
   "cell_type": "code",
   "execution_count": 65,
   "metadata": {},
   "outputs": [
    {
     "data": {
      "text/plain": [
       "array([126441.40453445, 160726.97012103, 194018.54951258, ...,\n",
       "       168723.406925  , 119649.97425115, 221438.37382731])"
      ]
     },
     "execution_count": 65,
     "metadata": {},
     "output_type": "execute_result"
    }
   ],
   "source": [
    "#check boosting predictions\n",
    "GB_pred"
   ]
  },
  {
   "cell_type": "code",
   "execution_count": 60,
   "metadata": {},
   "outputs": [
    {
     "data": {
      "text/plain": [
       "array([127069.11599654, 160967.98366869, 193929.85846571, ...,\n",
       "       174269.93536161, 119694.36103982, 221671.06528188])"
      ]
     },
     "execution_count": 60,
     "metadata": {},
     "output_type": "execute_result"
    }
   ],
   "source": [
    "#check bagging predictions\n",
    "bagging_pred"
   ]
  },
  {
   "cell_type": "code",
   "execution_count": 85,
   "metadata": {},
   "outputs": [],
   "source": [
    "#submission file 1, bagging only\n",
    "bagging_sub = pd.DataFrame()\n",
    "bagging_sub['Id'] = test_ID\n",
    "bagging_sub['SalePrice'] = bagging_pred\n",
    "bagging_sub.to_csv('bagging_submission.csv',index=False)"
   ]
  },
  {
   "cell_type": "code",
   "execution_count": 86,
   "metadata": {},
   "outputs": [],
   "source": [
    "#submission file 2, boosting only\n",
    "GB_sub = pd.DataFrame()\n",
    "GB_sub['Id'] = test_ID\n",
    "GB_sub['SalePrice'] = GB_pred\n",
    "GB_sub.to_csv('boosting_submission.csv',index=False)"
   ]
  },
  {
   "cell_type": "code",
   "execution_count": 87,
   "metadata": {},
   "outputs": [],
   "source": [
    "#submission file 3, boosting + bagging(50/50 split)\n",
    "ensemble = bagging_pred*(0.5) + GB_pred*(0.5)\n",
    "ensemble_df = pd.DataFrame()\n",
    "ensemble_df['Id'] = test_ID\n",
    "ensemble_df['SalePrice'] = ensemble\n",
    "ensemble_df.to_csv('ensemble_submission.csv',index=False)"
   ]
  },
  {
   "cell_type": "code",
   "execution_count": null,
   "metadata": {},
   "outputs": [],
   "source": []
  }
 ],
 "metadata": {
  "kernelspec": {
   "display_name": "Python 3",
   "language": "python",
   "name": "python3"
  },
  "language_info": {
   "codemirror_mode": {
    "name": "ipython",
    "version": 3
   },
   "file_extension": ".py",
   "mimetype": "text/x-python",
   "name": "python",
   "nbconvert_exporter": "python",
   "pygments_lexer": "ipython3",
   "version": "3.7.0"
  }
 },
 "nbformat": 4,
 "nbformat_minor": 2
}
